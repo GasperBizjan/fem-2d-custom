{
 "cells": [
  {
   "cell_type": "markdown",
   "metadata": {},
   "source": [
    "Before you turn this problem in, make sure everything runs as expected. First, **restart the kernel** (in the menubar, select Kernel$\\rightarrow$Restart) and then **run all cells** (in the menubar, select Cell$\\rightarrow$Run All).\n",
    "\n",
    "Make sure you fill in any place that says `YOUR CODE HERE` or \"YOUR ANSWER HERE\", as well as your name and collaborators below:"
   ]
  },
  {
   "cell_type": "code",
   "execution_count": null,
   "metadata": {},
   "outputs": [],
   "source": [
    "NAME = \"Gasper Bizjan\""
   ]
  },
  {
   "cell_type": "markdown",
   "metadata": {},
   "source": [
    "---"
   ]
  },
  {
   "cell_type": "markdown",
   "metadata": {
    "deletable": false,
    "editable": false,
    "nbgrader": {
     "cell_type": "markdown",
     "checksum": "ebf7d027d5ba80226a5011093915d3bb",
     "grade": false,
     "grade_id": "cell-baab05616f2f85bc",
     "locked": true,
     "schema_version": 3,
     "solution": false,
     "task": false
    }
   },
   "source": [
    "## Assignment 7 - Theory\n",
    "\n",
    "Please use the markdown cells to fillout the following assignments. "
   ]
  },
  {
   "cell_type": "markdown",
   "metadata": {
    "deletable": false,
    "editable": false,
    "nbgrader": {
     "cell_type": "markdown",
     "checksum": "6c78c26fe87677eb16bcbbb30fd4b893",
     "grade": false,
     "grade_id": "cell-c5892a38be5b0c56",
     "locked": true,
     "schema_version": 3,
     "solution": false,
     "task": false
    }
   },
   "source": [
    "### 7.1 - Theorem of Lax-Milgram\n",
    "Let $\\Omega \\subset \\mathbb{R}^d$ a domain (nice enough for all we will doing) and $f\\in C(\\Omega)$ and $u\\in C^2(\\overline{\\Omega})$. Consider the Reaction-Diffusion-Problem with Neumann boundary conditions and $\\lambda>0$ <br><br>\n",
    "$$ \\lambda u - \\Delta u = f \\quad \\text{ in } \\Omega $$\n",
    "$$ \\partial_n u = 0 \\quad \\text{ on } \\partial\\Omega$$\n",
    "<br>\n",
    "where $n$ is the outer unit normal of $\\Omega$ and $\\Delta$ is the laplacian operator. \n",
    "#### 7.1.1 The weak problem\n",
    "Derive the weak problem of the Reaction-Diffusion-Problem above (similar to the lecture) and give the corresponding Functionspaces. (6 points) \n",
    "\n",
    "#### 7.1.2 Existence and uniqueness\n",
    "Proof, if there exists an unique solution of the weak problem. (8 points)\n",
    "Under which conditions is a weak solution also strong solution? (1 point)   \n",
    "\n",
    "#### (Optional) \n",
    "What can say about existence and uniquness in case of $\\lambda <0$ AND homogeneous Dirichlet boundary conditions? (3 points)"
   ]
  },
  {
   "cell_type": "markdown",
   "metadata": {
    "deletable": false,
    "nbgrader": {
     "cell_type": "markdown",
     "checksum": "0acffc81122927c531ee796352bcf803",
     "grade": true,
     "grade_id": "cell-8ded1e25434c834c",
     "locked": false,
     "points": 15,
     "schema_version": 3,
     "solution": true,
     "task": false
    }
   },
   "source": [
    "YOUR ANSWER HERE"
   ]
  },
  {
   "cell_type": "markdown",
   "metadata": {
    "deletable": false,
    "editable": false,
    "nbgrader": {
     "cell_type": "markdown",
     "checksum": "7df73ff42027fac9216d7f7bc1157962",
     "grade": false,
     "grade_id": "cell-0da0e3f1ddfc5464",
     "locked": true,
     "schema_version": 3,
     "solution": false,
     "task": false
    }
   },
   "source": [
    "### Weak Derivarives in 1D\n",
    "Let assume $f \\in C(\\mathbb{R})$ with <br><br>\n",
    "$$ \n",
    "f(x) = \\begin{cases} x^2+x & x<0 \\\\ e^{x-2}-1 & x > 2 \\\\ 0 & \\text{else}   \\end{cases}.\n",
    "$$\n",
    "Give the weak derivative of $f$. (4 points) "
   ]
  },
  {
   "cell_type": "markdown",
   "metadata": {
    "deletable": false,
    "nbgrader": {
     "cell_type": "markdown",
     "checksum": "9b0177a2d9ccd223ca9d5b4874ebd2da",
     "grade": true,
     "grade_id": "cell-e3b1fca1838a8a47",
     "locked": false,
     "points": 4,
     "schema_version": 3,
     "solution": true,
     "task": false
    }
   },
   "source": [
    "YOUR ANSWER HERE\n",
    "\n",
    "## Answer ##\n",
    "\n",
    "### 7.1 - Theorem of Lax-Milgram ###\n",
    "#### 7.1.1 The weak problem ####\n",
    "Our aim is to solve the Reaction-diffusion problem. We assume that $u\\in C^2(\\overline\\Omega)$ is a solution of the PDE\n",
    "\n",
    "$$ \\lambda u - \\Delta u = f \\text{ in } \\Omega $$\n",
    "$$ \\partial_n u = 0 \\text{ in } \\partial\\Omega $$\n",
    "\n",
    "We take the test function $v \\in H^1(\\overline\\Omega)$, multiply the PDE with it and then integrate over the domain $\\Omega$.\n",
    "$$\\int_{\\Omega}(\\lambda u - \\Delta u)v \\text{ d}x = \\int_{\\Omega}fv \\text{ d}x$$\n",
    "\n",
    "We apply the Gauss theorem:\n",
    "$$\\int_{\\Omega} \\lambda u v \\text{ d}x + \\int_{\\Omega} \\nabla u \\nabla v \\text{ d}x - \\int_{\\partial\\Omega} (\\nabla u \\cdot n) v \\text{ d}x  = \\int_{\\Omega}fv \\text{ d}x \\text{ .}$$\n",
    "\n",
    "We use the boundary condition \n",
    "\n",
    "$$ \\partial_n u = \\nabla u \\cdot n = 0 $$\n",
    "\n",
    "which gives us the weak formulation of the Reaction-Diffusion problem\n",
    "$$ \\int_{\\Omega} \\lambda u v \\text{ d}x + \\int_{\\Omega} \\nabla u \\nabla v \\text{ d}x = \\int_{\\Omega}fv \\text{ d}x $$\n",
    "given the function spaces $u \\in H^1(\\overline\\Omega)$, $v \\in H^1(\\overline\\Omega)$ and $f \\in C(\\Omega)$. \n",
    "\n",
    "#### 7.1.2 Existance and uniqness ####\n",
    "For previously defined weak formulation and function spaces, we now define a linear form $l$ and bilenar form $a$:\n",
    "$$ l(v)=\\int_\\Omega f v \\text{ d}x$$\n",
    "$$ a(u,v)=\\int_\\Omega \\lambda u v \\text{ d}x + \\int_\\Omega \\nabla u \\nabla v \\text{ d}x$$\n",
    "\n",
    "We need to prove continuity of $ l(v)\\le C \\cdot \\lVert{v}\\rVert_{H^1}$ and $ a(u,v)\\le C \\cdot \\lVert{u}\\rVert_{H^1} \\cdot \\lVert{v}\\rVert_{H^1}$, as well as coercivity of $ a(u,u)\\ge \\alpha \\cdot \\lVert{u}\\rVert_{H^1}^2$:\n",
    "\n",
    "* **continuity of $l(v)$:**\n",
    "\n",
    "We know that $l(v)=\\int_\\Omega f v \\text{ d}x = \\langle f,v \\rangle_{L^2} $. \n",
    "\n",
    "Using the Cauchy-Schwary inequality for any $f,v \\in H^1$, we know that\n",
    "$$  \\langle f,v \\rangle_{H^1} \\le \\lVert{f}\\rVert_{H^1} \\cdot \\lVert{v}\\rVert_{H^1}  \\text{ .} $$\n",
    "\n",
    "Because $f \\in C(\\Omega)$ is constant, we can set $ \\lVert{f}\\rVert_{H^1} = C $ and thus proving linearity of $l$.\n",
    "\n",
    "* **continuity of $a(u,v)$:**\n",
    "\n",
    "We can see that\n",
    "$$ \\int_\\Omega \\lambda u v \\text{ d}x = \\lambda  \\langle u,v \\rangle_{H^1}$$\n",
    "$$ \\int_\\Omega \\nabla u  \\nabla v \\text{ d}x =  \\langle \\nabla u, \\nabla v \\rangle_{L^2} \\text{ .}$$\n",
    "\n",
    "using the Cauchy-Schwartz inequalities:\n",
    "$$ \\lambda \\langle u,v \\rangle_{H^1} \\le \\lambda \\lVert{u}\\rVert_{H^1} \\lVert{v}\\rVert_{H^1}$$\n",
    "$$ \\langle \\nabla u,\\nabla v \\rangle_{L^2} \\le\\lVert{\\nabla u}\\rVert_{L^2} \\lVert{\\nabla v}\\rVert_{L^1} \\le\\lVert{u}\\rVert_{H^1} \\lVert{v}\\rVert_{H^1}$$\n",
    "\n",
    "we get \n",
    "$$ (\\lambda +1) \\cdot \\lVert{u}\\rVert_{H^1} \\lVert{v}\\rVert_{H^1}  \\le  C \\cdot \\lVert{u}\\rVert_{H^1} \\lVert{v}\\rVert_{H^1} \\text{ .}$$\n",
    "\n",
    "We see that $\\lambda + 1 \\le C$. Because $\\lambda \\ge 0$ and $\\lambda+1$ is constant, we set $\\lambda+1=C$ and prove linearity of $a(u,v)$.\n",
    "\n",
    "* **coercivity of $a(u,u)$:**\n",
    "\n",
    "As before, we can use the the $L^{2}$-scalar product instead of the integrals and define the inequality:\n",
    "$$ \\lambda \\langle{u,u}\\rangle_{H^1} +  \\langle{\\nabla u, \\nabla u}\\rangle_{L^2} \\ge \\alpha \\cdot \\lVert{u}\\rVert_{H^1}^2$$\n",
    "\n",
    "Since $\\langle{\\nabla u, \\nabla u}\\rangle_{L^2} \\le \\langle{u, u}\\rangle_{L^2}$ we need to prove that:\n",
    "\n",
    "$$ \\lambda \\langle{u,u}\\rangle_{H^1} \\ge \\alpha \\cdot \\lVert{u}\\rVert_{H^1}^2$$\n",
    "$$ \\lambda \\lVert{u}\\rVert_{H^1}^2 \\ge \\alpha \\cdot \\lVert{u}\\rVert_{H^1}^2$$\n",
    "\n",
    "For a constant $\\lambda \\ge 0$ We can set $\\alpha = \\lambda$, which proves coercivity.\n",
    "\n",
    "Having proved all of this it follows from the lemma of Lax-Milgrim, that there exists a unique solution.\n",
    "\n",
    "The strong form of a PDE requires that the unknown solution belongs in $H_2$. But the weak form requires only that the unknown solution belongs in $H_1$. If the weak solution $u$ is in  $C^2(\\overline\\Omega)$ , then it is also a solution of the strong formulation.\n",
    "\n",
    "Regarding the existence and uniquness in case of $\\lambda <0$ and homogeneous Dirichlet boundary conditions, we know that the function spaces are now $u,v \\in H_0^1(\\overline\\Omega)$ instead of $u,v \\in H^1(\\overline\\Omega)$. In such a case we can use Friedrich's inequality, which states that for $u \\in H^1(\\Omega)$, there exists a constant $C_F$, such that\n",
    "$$ \\lVert{\\nabla u}\\rVert_{L^2} \\ge C_F \\cdot \\lVert{u}\\rVert_{L^2}^2 \\text{ .}$$\n",
    "\n",
    "Therefore \n",
    "$$ \\lambda \\langle{u,u}\\rangle_{L^2} +  \\langle{\\nabla u, \\nabla u}\\rangle_{L^2} \\ge \\alpha \\cdot \\lVert{u}\\rVert_{L^2}^2$$\n",
    "$$ (\\lambda+1) \\lVert{u}\\rVert_{L^2}^2 \\ge \\alpha \\cdot \\lVert{u}\\rVert_{L^2}^2$$\n",
    "\n",
    "For a constant $\\lambda \\ge 0$ We can set $\\alpha = \\lambda+1$, which proves coercivity. The other proofs are the same as before. It follows from the lemma of Lax-Milgrim, that there exists a unique solution.\n",
    "\n",
    "### 7.2 - Weak Derivarives in 1D\n",
    "Let assume $f \\in C(\\mathbb{R})$ with <br><br>\n",
    "$$ \n",
    "f(x) = \\begin{cases} x^2+x & x<0 \\\\ e^{x-2}-1 & x > 2 \\\\ 0 & \\text{else}   \\end{cases}.\n",
    "$$\n",
    "\n",
    "If\n",
    "\n",
    "$$ \\int_a^b g(x) v(x)\\text{ d}x=-\\int_a^b f(x)v'(x)\\text{ d}x$$\n",
    "\n",
    "is true for all $v \\in C^1((a,b))$, then $g \\in C((a,b))$ is the weak derivative of $f$. In other word $g(x)=f'(x)$. \n",
    "\n",
    "$$g(x) = \\begin{cases} 2x+1 & x<0 \\\\ e^{x-2} & x > 2 \\\\ 0 & \\text{else}   \\end{cases}$$"
   ]
  },
  {
   "cell_type": "code",
   "execution_count": null,
   "metadata": {},
   "outputs": [],
   "source": []
  }
 ],
 "metadata": {
  "kernelspec": {
   "display_name": "Python 3",
   "language": "python",
   "name": "python3"
  },
  "language_info": {
   "codemirror_mode": {
    "name": "ipython",
    "version": 3
   },
   "file_extension": ".py",
   "mimetype": "text/x-python",
   "name": "python",
   "nbconvert_exporter": "python",
   "pygments_lexer": "ipython3",
   "version": "3.8.8"
  }
 },
 "nbformat": 4,
 "nbformat_minor": 4
}
