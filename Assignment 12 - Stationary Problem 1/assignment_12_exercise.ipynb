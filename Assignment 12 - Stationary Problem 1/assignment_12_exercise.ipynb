{
 "cells": [
  {
   "cell_type": "markdown",
   "metadata": {},
   "source": [
    "Before you turn this problem in, make sure everything runs as expected. First, **restart the kernel** (in the menubar, select Kernel$\\rightarrow$Restart) and then **run all cells** (in the menubar, select Cell$\\rightarrow$Run All).\n",
    "\n",
    "Make sure you fill in any place that says `YOUR CODE HERE` or \"YOUR ANSWER HERE\", as well as your name and collaborators below:"
   ]
  },
  {
   "cell_type": "code",
   "execution_count": 1,
   "metadata": {},
   "outputs": [],
   "source": [
    "NAME = \"Gasper Bizjan\""
   ]
  },
  {
   "cell_type": "markdown",
   "metadata": {},
   "source": [
    "---"
   ]
  },
  {
   "cell_type": "markdown",
   "metadata": {
    "deletable": false,
    "editable": false,
    "nbgrader": {
     "cell_type": "markdown",
     "checksum": "18ef4cdd0a78cb97479a5ff3457a5cf5",
     "grade": false,
     "grade_id": "cell-bb5148102f5e12c1",
     "locked": true,
     "schema_version": 3,
     "solution": false,
     "task": false
    }
   },
   "source": [
    "## 12 Discrete System Part I\n",
    "\n",
    "In this assignment we will bring all knowledge from the further assignment together. Assume a domain $\\Omega$ and $f\\colon \\Omega \\to \\mathbb{R}$ and $g\\colon\\Gamma\\subset\\partial\\Omega\\to\\mathbb{R}$. We want to find a $u\\in V$ which holds\n",
    "\n",
    "$$\n",
    "\\int_\\Omega cu\\phi + a\\nabla u \\nabla\\phi = \\int_\\Omega f\\phi   \\qquad \\forall \\phi\\in V. \\qquad (1)\n",
    "$$\n",
    "\n",
    "where $a,c$ are well choosen constants and $V= \\{ u \\in H^1 | u = g \\text{ on } \\Gamma, \\partial_n u = 0  \\text{ on } \\partial\\Omega\\backslash \\Gamma \\}$. By a full finite element discretization we have a discrete function space $V_h$ given by a lagrangian basis $\\{\\varphi_i\\}_{i=0}^{N_p-1}$. We want to find a discrete solution $u_h = \\sum_{i=0}^{N_p-1}U_i\\varphi_i$ such that \n",
    "\n",
    "$$\n",
    "\\sum\\limits_{i=0}^{N_p-1}U_i\\int_\\Omega c\\varphi_j\\varphi_i + a\\nabla \\varphi_i \\nabla\\varphi_j = \\int_\\Omega f\\varphi_j   \\qquad \\forall j\\text{ free Dofs} \\qquad (2)\n",
    "$$\n",
    "\n",
    "and $U_j=g(x_j)$ for $x_j\\in\\partial\\Omega\\backslash\\Gamma$. As introduced in the lecture, this can be written as a linear system $AU=b$. \n",
    "\n",
    "Hint: By choosing $U_j=g(x_j)$ for $x_j\\in\\partial\\Omega\\backslash\\Gamma$ thoose degrees of freedom are fixed and known befor solving the system. All the other Dofs are free and unknown. "
   ]
  },
  {
   "cell_type": "markdown",
   "metadata": {},
   "source": [
    "### 12.1 Theory\n",
    "\n",
    "For this part assume Dirichlet boundary Conditions ($\\Gamma = \\partial\\Omega$) and $a>0,c>0$.\n",
    "\n",
    "#### 12.1.1 Remember the Lemma of Lax-Milgram\n",
    "We know that (1) has a unique solution $u\\in V$. We assume $V_h$ as the P1-space. Explain why there is a unique discrete solution $u_h\\in V_h$ for the discrete problem (2). (3 points)\n",
    "\n",
    "#### 12.1.2 Best Approximation (optional) \n",
    "What means such that $u_h$ is a best approximation of $u$ with respect to $V_h$. <br>\n",
    "Hint: You can use Galerkin-orthogornality. \n",
    "\n",
    "#### 12.1.2 Approximation of the intergral. \n",
    "Derive step by step such that the we can approxmimate the elements of $b$ by the following equation for a given quadrature rule with points $\\{\\hat{x},\\hat{y}\\}$ and weights $\\{\\hat{w}\\}$ \n",
    "$$\n",
    "b_j = \\int_\\Omega f(x,y)\\varphi_j(x,y)d(x,y) \\approx \\sum \\limits_{T \\in \\operatorname{supp}(\\varphi_i)} \\sum \\limits_{\\hat{x},\\hat{y},\\hat{w}} \\hat{w} \\cdot f(F_T(\\hat{x},\\hat{y}))\\cdot\\hat{\\phi}_{D(j,T)}(\\hat{x},\\hat{y})\\cdot \\vert \\operatorname{det}DF_T \\vert \n",
    "$$\n",
    "for all free degrees of freedom $j$. (5 points)\n",
    "#### 12.1.3 Optimal Approximation \n",
    "In 12.1.2 we can only approximate the right hand site $b$. Under which conditions is the caculation of 12.1.2 exact? (2 points)\n",
    "\n",
    " "
   ]
  },
  {
   "cell_type": "markdown",
   "metadata": {},
   "source": [
    "You answer here or in a pdf file"
   ]
  },
  {
   "cell_type": "code",
   "execution_count": null,
   "metadata": {
    "deletable": false,
    "editable": false,
    "nbgrader": {
     "cell_type": "code",
     "checksum": "7de45a5a0c98ae54de26edf9a83e88c7",
     "grade": true,
     "grade_id": "cell-57850bcdddd19165",
     "locked": true,
     "points": 10,
     "schema_version": 3,
     "solution": false,
     "task": false
    }
   },
   "outputs": [],
   "source": []
  },
  {
   "cell_type": "markdown",
   "metadata": {
    "deletable": false,
    "editable": false,
    "nbgrader": {
     "cell_type": "markdown",
     "checksum": "dfb9b2b5db8808392cffd198a2a21830",
     "grade": false,
     "grade_id": "cell-241a4c4a9dd5438f",
     "locked": true,
     "schema_version": 3,
     "solution": false,
     "task": false
    }
   },
   "source": [
    "### 12.2 Stationary Problem\n",
    "\n",
    "In the code block below you can find an incomplete class ```StationaryProblem```. In this assignment we will write the assembler for the system vector $b$ and add more functionallty in the next assignment.  \n",
    "\n",
    "#### 12.2.1 Understanding (not graded)\n",
    "Understand the code block below. \n",
    "\n",
    "#### 12.2.2 right hand site assembler. \n",
    "\n",
    "Write a member function ```addSource``` which adds a source to the right hand site $b$ for a given function $f$ as shown as in 12.1.2. In this function we assemble only the free Dofs of $b$. All the boundary Dofs will be modified in a function ```assembleBoundaryConditions``` with we will write in the next assignment. <br>\n",
    "<b>INPUT:</b> ```f``` lambda function ```f = lambda x,y: foo```\n"
   ]
  },
  {
   "cell_type": "code",
   "execution_count": 2,
   "metadata": {
    "deletable": false,
    "nbgrader": {
     "cell_type": "code",
     "checksum": "202c0b4229c5f66ffeaef888f35167fb",
     "grade": false,
     "grade_id": "cell-b16f74bc45cbe660",
     "locked": false,
     "schema_version": 3,
     "solution": true,
     "task": false
    }
   },
   "outputs": [],
   "source": [
    "import numpy as np\n",
    "import matplotlib.pyplot as plt\n",
    "import matplotlib.tri as triang\n",
    "\n",
    "import grid\n",
    "import basis\n",
    "import quadrule\n",
    "\n",
    "class StationaryProblem():\n",
    "    def __init__(self, globalBasis, quadrature, dirichletLocations = (lambda x,y: True), dirichletValues = (lambda x,y: 0.0)):\n",
    "        \n",
    "        # dirichletLocation(x,y) = 1_{Gamma}(x,y) = True if (x,y) in Gamma else False \n",
    "        \n",
    "        self.grid = globalBasis.grid\n",
    "        self.basis = globalBasis.basis\n",
    "        self.globalBasis = globalBasis\n",
    "        self.quadrature = quadrature\n",
    "\n",
    "        # Boundary Conditions\n",
    "        self.dirichletDOFs = self.grid.getBoundaryIndices(dirichletLocations)\n",
    "        self.allDOFs = np.arange(np.shape(self.grid.points)[0])\n",
    "        self.freeDOFs = np.setdiff1d(np.arange(np.shape(self.grid.points)[0]),self.dirichletDOFs)\n",
    "\n",
    "        # Initialize\n",
    "        self.systemMatrix = np.zeros((np.shape(self.grid.points)[0],np.shape(self.grid.points)[0]))\n",
    "        self.systemVector = np.zeros(np.shape(self.grid.points)[0])\n",
    "        self.solution = None\n",
    "\n",
    "\n",
    "        # Precompute data that is needed all the time.\n",
    "        # x_k and w_k\n",
    "        self.xkHat,self.wkHat = self.quadrature.getPointsAndWeights()\n",
    "        self.xkTrafo = self.grid.evalReferenceMap(self.xkHat)\n",
    "        self.adet = self.grid.getDeterminants()\n",
    "        self.invJacT = self.grid.getInverseJacobiansT()\n",
    "\n",
    "        # phi(x_k) and grad_phi(x_k)\n",
    "        self.phi = self.basis.evalPhi(self.xkHat)\n",
    "        self.gradPhi = self.basis.evalGradPhi(self.xkHat)\n",
    "\n",
    "        # ########\n",
    "        # More functionality will be here in the next assignment \n",
    "        #\n",
    "        # def assembleBoundaryConditions(self, dirichletValues):\n",
    "        #   foo\n",
    "        # #######\n",
    "\n",
    "    def addSource(self, f = lambda x,y: foo):\n",
    "    # assembles the free degrees of freedom\n",
    "    \n",
    "        for i in self.freeDOFs: # loop for assembling bi\n",
    "            supp, localInd = self.globalBasis.evalDOFMap(i)\n",
    "\n",
    "            for T,loc_i in zip(supp,localInd): # loop over T,D(i,T)\n",
    "                # T corresponds to index in the cells array\n",
    "                # loc_i = 0,1,2\n",
    "                value = self.wkHat*self.phi[:,loc_i]*f(self.xkTrafo[T,:,0], self.xkTrafo[T,:,1])\n",
    "                self.systemVector[i] += self.adet[T]*np.sum(value)\n",
    "        \n",
    "    def show(self):\n",
    "        fig = plt.figure()\n",
    "        ax = fig.add_subplot(1, 1, 1)\n",
    "        ax.set_xlim([self.globalBasis.grid.xlow, self.globalBasis.grid.xhigh])\n",
    "        ax.set_ylim([self.globalBasis.grid.ylow, self.globalBasis.grid.yhigh])\n",
    "        ax.axis('equal')\n",
    "        triangulation = triang.Triangulation(self.globalBasis.grid.points[:,0], self.globalBasis.grid.points[:,1])\n",
    "        tri = ax.tripcolor(triangulation, self.systemVector, shading='gouraud')\n",
    "        ax.set_xlabel(r'$x$')\n",
    "        ax.set_ylabel(r'$y$')\n",
    "        fig.colorbar(tri)\n",
    "        plt.show() "
   ]
  },
  {
   "cell_type": "code",
   "execution_count": null,
   "metadata": {
    "deletable": false,
    "editable": false,
    "nbgrader": {
     "cell_type": "code",
     "checksum": "0d7997a0d189c0a6afb1b60a71c42c0b",
     "grade": true,
     "grade_id": "cell-4303a59b3d860a79",
     "locked": true,
     "points": 2,
     "schema_version": 3,
     "solution": false,
     "task": false
    }
   },
   "outputs": [],
   "source": []
  },
  {
   "cell_type": "code",
   "execution_count": null,
   "metadata": {
    "deletable": false,
    "editable": false,
    "nbgrader": {
     "cell_type": "code",
     "checksum": "71c8fc6c0e01b60be1098dea648d85b7",
     "grade": true,
     "grade_id": "cell-d4a9cda1f76b4f7a",
     "locked": true,
     "points": 5,
     "schema_version": 3,
     "solution": false,
     "task": false
    }
   },
   "outputs": [],
   "source": []
  },
  {
   "cell_type": "markdown",
   "metadata": {
    "deletable": false,
    "editable": false,
    "nbgrader": {
     "cell_type": "markdown",
     "checksum": "a2078142df29ed90e512130ebc01876a",
     "grade": false,
     "grade_id": "cell-e663c7e2a5b1fdc7",
     "locked": true,
     "schema_version": 3,
     "solution": false,
     "task": false
    }
   },
   "source": [
    "#### 12.3 Inital a Problem\n",
    "\n",
    "Let assume the given problem from above on the domain $\\Omega=[-1,1]^2$ with $\\Gamma=\\{(x,y)\\vert x=1\\}$ and a given source term $f=x^2+y^2$. Inital a stationary problem call ```problem``` and assemble the system vector by adding $f$ as a source. Use a regular uniform grid with $10\\times10$ points and a second order quadrature rule.\n",
    "\n",
    "Hint: you can find all the classes you need in the corresponding files. "
   ]
  },
  {
   "cell_type": "code",
   "execution_count": 3,
   "metadata": {
    "deletable": false,
    "nbgrader": {
     "cell_type": "code",
     "checksum": "acc6714c1dcf3f3a1398ea71037e1b2d",
     "grade": false,
     "grade_id": "cell-800afad2ff5b3dcf",
     "locked": false,
     "schema_version": 3,
     "solution": true,
     "task": false
    }
   },
   "outputs": [],
   "source": [
    "# grid, basis\n",
    "g = grid.Grid(-1,1,-1,1,10,10)\n",
    "b = basis.Basis()\n",
    "# global basis\n",
    "globalB = basis.GlobalBasis(g, b)\n",
    "#  Quadrature rule\n",
    "qr = quadrule.QuadratureRule(2)\n",
    "\n",
    "# Source\n",
    "f = lambda x,y: x**2+y**2\n",
    "\n",
    "# Locator\n",
    "loc = lambda x,y: x==1\n",
    "\n",
    "# Stationary problem\n",
    "problem = StationaryProblem(globalB, qr, dirichletLocations = loc)\n",
    "problem.addSource(f)"
   ]
  },
  {
   "cell_type": "code",
   "execution_count": 4,
   "metadata": {},
   "outputs": [
    {
     "data": {
      "image/png": "[encoded data removed]",
      "text/plain": [
       "<Figure size 432x288 with 2 Axes>"
      ]
     },
     "metadata": {
      "needs_background": "light"
     },
     "output_type": "display_data"
    }
   ],
   "source": [
    "problem.show()"
   ]
  },
  {
   "cell_type": "code",
   "execution_count": null,
   "metadata": {
    "deletable": false,
    "editable": false,
    "nbgrader": {
     "cell_type": "code",
     "checksum": "16fbaf778abedd33f72640aed67cfe6c",
     "grade": true,
     "grade_id": "cell-9e3f6a1e999d11bb",
     "locked": true,
     "points": 4,
     "schema_version": 3,
     "solution": false,
     "task": false
    }
   },
   "outputs": [],
   "source": []
  },
  {
   "cell_type": "code",
   "execution_count": null,
   "metadata": {},
   "outputs": [],
   "source": []
  },
  {
   "cell_type": "code",
   "execution_count": null,
   "metadata": {},
   "outputs": [],
   "source": []
  }
 ],
 "metadata": {
  "kernelspec": {
   "display_name": "Python 3",
   "language": "python",
   "name": "python3"
  },
  "language_info": {
   "codemirror_mode": {
    "name": "ipython",
    "version": 3
   },
   "file_extension": ".py",
   "mimetype": "text/x-python",
   "name": "python",
   "nbconvert_exporter": "python",
   "pygments_lexer": "ipython3",
   "version": "3.8.8"
  }
 },
 "nbformat": 4,
 "nbformat_minor": 2
}
