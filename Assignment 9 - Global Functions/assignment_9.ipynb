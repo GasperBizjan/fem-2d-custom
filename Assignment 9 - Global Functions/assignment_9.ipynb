{
 "cells": [
  {
   "cell_type": "markdown",
   "metadata": {},
   "source": [
    "Before you turn this problem in, make sure everything runs as expected. First, **restart the kernel** (in the menubar, select Kernel$\\rightarrow$Restart) and then **run all cells** (in the menubar, select Cell$\\rightarrow$Run All).\n",
    "\n",
    "Make sure you fill in any place that says `YOUR CODE HERE` or \"YOUR ANSWER HERE\", as well as your name and collaborators below:"
   ]
  },
  {
   "cell_type": "code",
   "execution_count": 1,
   "metadata": {},
   "outputs": [],
   "source": [
    "NAME = \"Gasper Bizjan\""
   ]
  },
  {
   "cell_type": "markdown",
   "metadata": {},
   "source": [
    "---"
   ]
  },
  {
   "cell_type": "markdown",
   "metadata": {
    "deletable": false,
    "editable": false,
    "nbgrader": {
     "cell_type": "markdown",
     "checksum": "473d56c584db81212667c55f0bfd04c7",
     "grade": false,
     "grade_id": "cell-cf100933a5e15ca2",
     "locked": true,
     "schema_version": 3,
     "solution": false,
     "task": false
    }
   },
   "source": [
    "## Assignment 9 - Reference Map and Global P1-Basis\n"
   ]
  },
  {
   "cell_type": "markdown",
   "metadata": {
    "deletable": false,
    "editable": false,
    "nbgrader": {
     "cell_type": "markdown",
     "checksum": "1b0e15320f716e3be7bbd440576097dd",
     "grade": false,
     "grade_id": "cell-442f5c24b3e17ae6",
     "locked": true,
     "schema_version": 3,
     "solution": false,
     "task": false
    }
   },
   "source": [
    "### 9.1 Reference Map \n",
    "In the Codeblock below there is the class ```Grid``` you know from the last assignments. The aim of this assignment is to implement missing functionality for a Grid to be used with a Finite Element software. The reference map $F_T : \\hat{T} \\rightarrow T$ is always affine linear as we have seen before:<br><br>\n",
    "$$ \n",
    "F_T (\\hat{x},\\hat{y}) = \\left[\\matrix a_1-a_0,a_2-a_0 \\right]\\hat{x} + a_0 \\\\\n",
    "DF_T(\\hat{x},\\hat{y}) = \\left[\\matrix a_1-a_0,a_2-a_0 \\right]\n",
    "$$ \n",
    "<br>\n",
    "is simply given by the linear part and the definitions of the determinant as well as the Inverse follow immediately. \n",
    "\n",
    "#### 9.1.1 updateTrafoInformation\n",
    "\n",
    "Complete the member function ```updateTrafoInformation```. You can find the function header in class below. The function should update the properties \n",
    "<br><br> ```self.adet``` array of shape $N_{cells}$ which represents $|det {DF}_T|$ for all cells $T \\in \\tau_h$. \n",
    "<br><br> ```self.invJacT``` array of shape $N_{cells}\\times 2 \\times 2$ which represents the transposed inverse of transformation gradient $({DF}_T)^{-T}$ for all cells $T \\in \\tau_h$.\n",
    "<br><br>\n",
    "<b>INPUT</b>: no input <br>\n",
    "<b>OUTPUT</b>: no output <br><br>\n",
    "\n",
    "#### 9.1.2 evalReferenceMap\n",
    "Complete the member function ```evalReferenceMap```. You can find the function header and its return value in class below. The function should evaluate the Reference Map $F_T$ in a set of points in the Reference Element ```xHat```.\n",
    "\n",
    "<b>INPUT</b>: ```xHat```, set of $N_p$ points in the reference element as ```np.array([ [x1,y1] , [x2 , y2] , ... ])``` of shape $N_p \\times 2$. <br>\n",
    "<b>OUTPUT</b>: ```np.ndarray``` of shape $N_{cells}\\times N_p \\times 2$\n",
    "\n",
    "Hints:<br> \n",
    "$(\\hat{x}_j , \\hat{y}_j) = $ ```xHat[j,:]```<br>\n",
    "$ F_T(\\hat{x}_j,\\hat{y}_j)_k = $ ``` evalReferenceMap(xHat)[T,j,k] ``` "
   ]
  },
  {
   "cell_type": "code",
   "execution_count": 2,
   "metadata": {
    "deletable": false,
    "nbgrader": {
     "cell_type": "code",
     "checksum": "9eb662844c753d1c0035842134276053",
     "grade": false,
     "grade_id": "cell-eb62e301cb94a245",
     "locked": false,
     "schema_version": 3,
     "solution": true,
     "task": false
    }
   },
   "outputs": [],
   "source": [
    "import numpy as np\n",
    "import matplotlib.pyplot as plt\n",
    "\n",
    "class Grid():\n",
    "    def __init__(self,xlow,xhigh,ylow,yhigh,Nx,Ny):\n",
    "        self.xlow = xlow\n",
    "        self.xhigh = xhigh\n",
    "        self.ylow = ylow\n",
    "        self.yhigh = yhigh\n",
    "        self.Nx = Nx\n",
    "        self.Ny = Ny \n",
    "        \n",
    "        self.createGrid()\n",
    "        \n",
    "        # create the determinant and the Inverse of the Jacobian \n",
    "        self.adet = None\n",
    "        self.invJacT = None\n",
    "        self.updateTrafoInformation()\n",
    "        \n",
    "    def createGrid(self):\n",
    "        x = np.linspace(self.xlow,self.xhigh,self.Nx)\n",
    "        y = np.linspace(self.ylow,self.yhigh,self.Ny)    \n",
    "            \n",
    "        # meshgrid -> #nodes x 2\n",
    "        self.points = np.zeros([self.Nx*self.Ny,2])\n",
    "        self.points[:,0] = np.kron( np.ones(self.Ny) , x )   # Ny times copy of x\n",
    "        self.points[:,1] = np.kron( y , np.ones(self.Nx)  )  # Nx y[0]  and  Nx y[1]  and ...  \n",
    "    \n",
    "        # 1 and 2 initial the first two triangles and copy it \n",
    "        self.cells = np.zeros([2*(self.Nx-1)*(self.Ny-1),3],dtype=int)\n",
    "        self.cells[0::2] = [0,1,self.Nx]\n",
    "        self.cells[1::2] = [self.Nx+1,self.Nx,1]\n",
    "    \n",
    "        # 3 row index shift\n",
    "        shift = np.arange(0,(self.Nx-1)*(self.Ny-1))\n",
    "        shift = np.kron(shift , np.ones(2,dtype=int)  )    \n",
    "        self.cells = self.cells + shift[:,None]\n",
    "\n",
    "        shift = np.arange(0,self.Ny-1)\n",
    "        shift = np.kron( shift , np.ones(2*(self.Nx-1),dtype=int) )    \n",
    "        self.cells = self.cells + shift[:,None]\n",
    "\n",
    "        \n",
    "    def show(self):\n",
    "        fig = plt.figure()\n",
    "        ax = fig.add_subplot(111)\n",
    "        ax.axis('equal')\n",
    "\n",
    "        ax.scatter(self.points[:,0] , self.points[:,1])\n",
    "        ax.triplot(self.points[:,0],self.points[:,1], self.cells)\n",
    "    \n",
    "        plt.show()   \n",
    "\n",
    "\n",
    "    def isBoundaryPoint(self,p):\n",
    "        return ((p[0] <= self.xlow+1e-6 or p[0] >= self.xhigh-1e-6) or (p[1] <= self.ylow + 1e-6 or p[1] >= self.yhigh - 1e-6))\n",
    "\n",
    "    def updateTrafoInformation(self):\n",
    "        self.adet = np.array([])\n",
    "        self.invJacT = np.array([])\n",
    "        for cell in self.cells:\n",
    "            a = np.array([self.points[cell[1]] - self.points[cell[0]], self.points[cell[2]] - self.points[cell[0]]])\n",
    "            adet = np.linalg.det(a)\n",
    "            invJacT = np.transpose(np.linalg.inv(a))\n",
    "            self.adet = np.append(self.adet, adet)\n",
    "            self.invJacT = np.append(self.invJacT, invJacT)\n",
    "        self.invJacT = np.reshape(self.invJacT, (len(self.cells), 2, 2))\n",
    "\n",
    "    def evalReferenceMap(self, xHat):\n",
    "        referenceMap = np.array([])\n",
    "        for cell in self.cells:\n",
    "            a = np.array([self.points[cell[1]] - self.points[cell[0]], self.points[cell[2]] - self.points[cell[0]]])\n",
    "            for j in range(len(xHat)):\n",
    "                ft = a @ xHat[j,:] + self.points[cell[0]]\n",
    "                referenceMap = np.append(referenceMap, ft)\n",
    "        referenceMap = np.reshape(referenceMap, (len(self.cells), len(xHat), 2))\n",
    "        return referenceMap"
   ]
  },
  {
   "cell_type": "code",
   "execution_count": 4,
   "metadata": {},
   "outputs": [
    {
     "name": "stdout",
     "output_type": "stream",
     "text": [
      "Transpose of the inversed Jacobian:\n",
      "[[[ 1.  0.]\n",
      "  [ 0.  1.]]\n",
      "\n",
      " [[-1. -0.]\n",
      "  [-0. -1.]]]\n",
      "\n",
      "Reference Map:\n",
      "[[[0. 0.]\n",
      "  [1. 0.]\n",
      "  [0. 1.]]\n",
      "\n",
      " [[1. 1.]\n",
      "  [0. 1.]\n",
      "  [1. 0.]]]\n"
     ]
    },
    {
     "data": {
      "image/png": "[encoded data removed]",
      "text/plain": [
       "<Figure size 432x288 with 1 Axes>"
      ]
     },
     "metadata": {
      "needs_background": "light"
     },
     "output_type": "display_data"
    }
   ],
   "source": [
    "# The reference Map maps the reference element to the grid. \n",
    "# Plaese use the following trivial example to check your result. \n",
    "\n",
    "g = Grid(0,1,0,1,2,2)\n",
    "\n",
    "print(\"Transpose of the inversed Jacobian:\")\n",
    "print(g.invJacT)\n",
    "print()\n",
    "\n",
    "print(\"Reference Map:\")\n",
    "print(g.evalReferenceMap(np.array([[0,0],[1,0],[0,1]])))\n",
    "g.show()"
   ]
  },
  {
   "cell_type": "code",
   "execution_count": null,
   "metadata": {
    "deletable": false,
    "editable": false,
    "nbgrader": {
     "cell_type": "code",
     "checksum": "6f175f90eedb70ce5ca02b538e63e8af",
     "grade": true,
     "grade_id": "cell-78add7656fde6e64",
     "locked": true,
     "points": 2,
     "schema_version": 3,
     "solution": false,
     "task": false
    }
   },
   "outputs": [],
   "source": []
  },
  {
   "cell_type": "code",
   "execution_count": null,
   "metadata": {
    "deletable": false,
    "editable": false,
    "nbgrader": {
     "cell_type": "code",
     "checksum": "f93e36941c67283d09b7cb33fc890226",
     "grade": true,
     "grade_id": "cell-f8e1bfaa1c5944de",
     "locked": true,
     "points": 3,
     "schema_version": 3,
     "solution": false,
     "task": false
    }
   },
   "outputs": [],
   "source": []
  },
  {
   "cell_type": "code",
   "execution_count": null,
   "metadata": {
    "deletable": false,
    "editable": false,
    "nbgrader": {
     "cell_type": "code",
     "checksum": "6eb3ef5118bb1ca9adf73a83ee4743ae",
     "grade": true,
     "grade_id": "cell-f9bf07b00122a93c",
     "locked": true,
     "points": 2,
     "schema_version": 3,
     "solution": false,
     "task": false
    }
   },
   "outputs": [],
   "source": []
  },
  {
   "cell_type": "code",
   "execution_count": null,
   "metadata": {
    "deletable": false,
    "editable": false,
    "nbgrader": {
     "cell_type": "code",
     "checksum": "0d57be412e57d3f57c6329b7bba5ee73",
     "grade": true,
     "grade_id": "cell-2a218d01180aca78",
     "locked": true,
     "points": 3,
     "schema_version": 3,
     "solution": false,
     "task": false
    }
   },
   "outputs": [],
   "source": []
  },
  {
   "cell_type": "markdown",
   "metadata": {
    "deletable": false,
    "editable": false,
    "nbgrader": {
     "cell_type": "markdown",
     "checksum": "be4106c0e692478654c4f9c4f8ac26d6",
     "grade": false,
     "grade_id": "cell-926bcd0e9e9c6a06",
     "locked": true,
     "schema_version": 3,
     "solution": false,
     "task": false
    }
   },
   "source": [
    "### 9.2 Practice the DOF-Mapping\n",
    "\n",
    "Consider the simple triangular grid depicted in the file <i>tri_grid.png</i> and given by<br> \n",
    "$$ points = \\begin{bmatrix} \n",
    "0.0 & 0.0 \\\\\n",
    "0.5 & 0.0 \\\\\n",
    "1.0 & 0.0 \\\\\n",
    "0.0 & 0.5 \\\\\n",
    "0.5 & 0.5 \\\\\n",
    "1.0 & 0.5 \\\\\n",
    "0.0 & 1.0 \\\\\n",
    "0.5 & 1.0 \\\\\n",
    "1.0 & 1.0 \\end{bmatrix} \\quad cells = \\begin{bmatrix}\n",
    "0 & 1 & 3 \\\\\n",
    "4 & 3 & 1 \\\\\n",
    "1 & 2 & 4 \\\\\n",
    "5 & 4 & 2 \\\\\n",
    "3 & 4 & 6 \\\\\n",
    "7 & 6 & 4 \\\\\n",
    "4 & 5 & 7 \\\\\n",
    "8 & 7 & 5\\end{bmatrix} $$\n",
    "\n",
    "and focus on $P_4$ again. Then global $\\varphi_4$ corresponds with the local basis functions \n",
    "<ul>\n",
    "    <li> $\\phi_0$ on cells $T_1$ and $T_6$  </li>\n",
    "    <li> $\\phi_1$ on cells $T_3$ and $T_4$  </li> \n",
    "    <li> $\\phi_2$ on cells $T_2$ and $T_5$. </li>\n",
    "</ul>\n",
    "On triangles $T_0$ and $T_7$ it does not correspond with any local basis function.<br> <br>\n",
    "Write down the local index for the given global index and cell. The format does not have to fulfill any requirements, filling in a number is sufficient. <br>\n",
    "<b>Important:</b> \n",
    "Use the Pythonic numbering, starting at index $0$ and if a cell doesn't corresponce to a node use $-1$. \n",
    "\n",
    "\n",
    "\n"
   ]
  },
  {
   "cell_type": "markdown",
   "metadata": {
    "deletable": false,
    "editable": false,
    "nbgrader": {
     "cell_type": "markdown",
     "checksum": "362b29a6e5c5c60072d0c17665d9c6fa",
     "grade": false,
     "grade_id": "cell-a1ee4c2ac5938683",
     "locked": true,
     "schema_version": 3,
     "solution": false,
     "task": false
    }
   },
   "source": [
    "Global Index: 7 <br>\n",
    "Cell: 7"
   ]
  },
  {
   "cell_type": "markdown",
   "metadata": {
    "deletable": false,
    "nbgrader": {
     "cell_type": "markdown",
     "checksum": "3924e89389c15ccaeb8303cb792669b4",
     "grade": true,
     "grade_id": "cell-87c744b54d66e445",
     "locked": false,
     "points": 1,
     "schema_version": 3,
     "solution": true,
     "task": false
    }
   },
   "source": [
    "local index: 1"
   ]
  },
  {
   "cell_type": "markdown",
   "metadata": {
    "deletable": false,
    "editable": false,
    "nbgrader": {
     "cell_type": "markdown",
     "checksum": "4d0ac5cb58294c1128df15ad2c87119c",
     "grade": false,
     "grade_id": "cell-392b74166a93e165",
     "locked": true,
     "schema_version": 3,
     "solution": false,
     "task": false
    }
   },
   "source": [
    "Global Index: 5 <br>\n",
    "Cell: 3"
   ]
  },
  {
   "cell_type": "markdown",
   "metadata": {
    "deletable": false,
    "nbgrader": {
     "cell_type": "markdown",
     "checksum": "b70c767c105bcc89c8ce50e79c7df832",
     "grade": true,
     "grade_id": "cell-6bc70ce0f4af4001",
     "locked": false,
     "points": 1,
     "schema_version": 3,
     "solution": true,
     "task": false
    }
   },
   "source": [
    "local index: 0"
   ]
  },
  {
   "cell_type": "markdown",
   "metadata": {
    "deletable": false,
    "editable": false,
    "nbgrader": {
     "cell_type": "markdown",
     "checksum": "1f1f0b1abe85bc1f159b4923fcd7d0d8",
     "grade": false,
     "grade_id": "cell-ddb282cefbc7ccc3",
     "locked": true,
     "schema_version": 3,
     "solution": false,
     "task": false
    }
   },
   "source": [
    "Global index: 7<br> \n",
    "Cell: 5"
   ]
  },
  {
   "cell_type": "markdown",
   "metadata": {
    "deletable": false,
    "nbgrader": {
     "cell_type": "markdown",
     "checksum": "510bc3d48847fcfb8d66d55483d32fc0",
     "grade": true,
     "grade_id": "cell-28ce22589c12c5d4",
     "locked": false,
     "points": 1,
     "schema_version": 3,
     "solution": true,
     "task": false
    }
   },
   "source": [
    "local index: 0"
   ]
  },
  {
   "cell_type": "markdown",
   "metadata": {
    "deletable": false,
    "editable": false,
    "nbgrader": {
     "cell_type": "markdown",
     "checksum": "6fe9548497697ae966dc91cd4ddae25c",
     "grade": false,
     "grade_id": "cell-5bb7875aa0606a08",
     "locked": true,
     "schema_version": 3,
     "solution": false,
     "task": false
    }
   },
   "source": [
    "Global index: 3<br> \n",
    "Cell: 4"
   ]
  },
  {
   "cell_type": "markdown",
   "metadata": {
    "deletable": false,
    "nbgrader": {
     "cell_type": "markdown",
     "checksum": "8a86e2063a9c644e9e5f3bf42af37610",
     "grade": true,
     "grade_id": "cell-b85be8eefdcfd2bc",
     "locked": false,
     "points": 1,
     "schema_version": 3,
     "solution": true,
     "task": false
    }
   },
   "source": [
    "local index: 0 "
   ]
  },
  {
   "cell_type": "markdown",
   "metadata": {
    "deletable": false,
    "editable": false,
    "nbgrader": {
     "cell_type": "markdown",
     "checksum": "d630033813f8ef0fad75e8abbe3db2f3",
     "grade": false,
     "grade_id": "cell-affa778f594fc9b6",
     "locked": true,
     "schema_version": 3,
     "solution": false,
     "task": false
    }
   },
   "source": [
    "### 9.3 Global P1-Basis\n",
    "We will write a class ```GlobalBasis``` which gets a grid and local basis as members and creats the global P1-Basis as introduced in the lecture. \n",
    "\n",
    "Use the file ```basis.py``` to import the class ```Basis```. Creat a basis on the reference element called ```b```. "
   ]
  },
  {
   "cell_type": "code",
   "execution_count": 5,
   "metadata": {
    "deletable": false,
    "nbgrader": {
     "cell_type": "code",
     "checksum": "bedea974123a0e9036aa62dced1cc001",
     "grade": false,
     "grade_id": "cell-0c90881c29ad26eb",
     "locked": false,
     "schema_version": 3,
     "solution": true,
     "task": false
    }
   },
   "outputs": [],
   "source": [
    "from basis import Basis\n",
    "b = Basis()"
   ]
  },
  {
   "cell_type": "code",
   "execution_count": null,
   "metadata": {
    "deletable": false,
    "editable": false,
    "nbgrader": {
     "cell_type": "code",
     "checksum": "3922edfa224bc988c9aef6ca204ed172",
     "grade": true,
     "grade_id": "cell-27785aecab8b28fc",
     "locked": true,
     "points": 1,
     "schema_version": 3,
     "solution": false,
     "task": false
    }
   },
   "outputs": [],
   "source": []
  },
  {
   "cell_type": "markdown",
   "metadata": {
    "deletable": false,
    "editable": false,
    "nbgrader": {
     "cell_type": "markdown",
     "checksum": "97af721aa8373e1073ce52bb7aa79981",
     "grade": false,
     "grade_id": "cell-3cabae30547d93db",
     "locked": true,
     "schema_version": 3,
     "solution": false,
     "task": false
    }
   },
   "source": [
    "#### 9.3.1 Introduction\n",
    "\n",
    "Consider a global basis where the function $\\varphi_i$ directly corresponds to the basis functions on the reference element $\\hat{\\phi}_k$ by \n",
    "\n",
    "$$ \n",
    "\\varphi_i(x) = \\phi^T_{D(i,T)}(x) = \\hat{\\phi}_{D(i,T)}(F^{-1}(x))\n",
    "$$\n",
    "\n",
    "and fullfils the lagrangian condition with respecte to the point $P_i$\n",
    "$$ \\varphi_i(P_j) = \\begin{cases}\n",
    "1 & \\text{ if }i=j\\\\\n",
    "0 & \\text{ if }i\\neq j\n",
    "\\end{cases} $$\n",
    "so that it has value $1$ at point $P_i$ and $0$ at all other points. The support of $\\varphi_i$, i.e. the part of the domain where $\\varphi_i$ is nonzero is given by the cells surrounding $P_i$. But what if we actually are in a cell $T$ surrounding $P_i$? For the application of Finite Element methods one usually needs - for a given global index $i$ - the local indices on <i>all</i> cells in the support, i.e. all surrounding cells. Thus we want to implement a different variant of this functionality, returning both the indices of all cells in the support and the local indices in those cells. <br><br>\n",
    "\n",
    "#### 9.2.1 Constructor \n",
    "\n",
    "The contructor has the input <br>\n",
    "<b>INPUT</b>: ```grid``` a grid class, ```basis``` a local basis. <br><br> \n",
    "Hint: For the ```Grid``` we can use the class defined above and basis ```Basis``` is imported by the task above. \n",
    "\n",
    "#### 9.2.2 evalDofMap\n",
    "\n",
    "Implement the member function ```evalDOFMap```. <br>\n",
    "<b>INPUT:</b> ```globalInd``` - the global index (previously denoted by $i$) as ```int``` <br>\n",
    "<b>OUTPUT:</b> ```supp``` - indices of cells in the support as ```np.ndarray```, ```localInd``` - corresponding local basis indices as ```np.ndarray```. \n",
    "<br>\n",
    "Consider for example the previously defined triangular grid. Then for an input of the global index $4$ one would get the outputs \n",
    "<ul>\n",
    "<li>$[1,2,3,4,5,6]$ - indices of all cells in the support </li>\n",
    "<li>$[0,2,1,1,2,0]$ - corresponding local indices for global index $4$ </li>\n",
    "</ul>\n",
    "\n"
   ]
  },
  {
   "cell_type": "code",
   "execution_count": 6,
   "metadata": {
    "deletable": false,
    "nbgrader": {
     "cell_type": "code",
     "checksum": "569d3a6f9967e2d6ebe2c88ca2b8e137",
     "grade": false,
     "grade_id": "cell-e0d9ba64e538daf9",
     "locked": false,
     "schema_version": 3,
     "solution": true,
     "task": false
    }
   },
   "outputs": [],
   "source": [
    "class GlobalBasis:\n",
    "    def __init__(self, grid, basis):\n",
    "        self.grid = grid\n",
    "        self.basis = basis\n",
    "\n",
    "    def evalDOFMap(self, globalInd):\n",
    "        supp, localInd = np.where(self.grid.cells==globalInd)\n",
    "        return supp, localInd"
   ]
  },
  {
   "cell_type": "code",
   "execution_count": 9,
   "metadata": {},
   "outputs": [
    {
     "name": "stdout",
     "output_type": "stream",
     "text": [
      "supp:  [1 2 3 4 5 6]\n",
      "localInd:  [0 2 1 1 2 0]\n"
     ]
    }
   ],
   "source": [
    "g = Grid(0,1,0,1,3,3)\n",
    "try:\n",
    "    b = basis.Basis()\n",
    "except:\n",
    "    b = Basis()\n",
    "globalBasis = GlobalBasis(g,b)\n",
    "\n",
    "# Test\n",
    "print(\"supp: \", globalBasis.evalDOFMap(4)[0])\n",
    "print(\"localInd: \", globalBasis.evalDOFMap(4)[1])"
   ]
  },
  {
   "cell_type": "code",
   "execution_count": 10,
   "metadata": {
    "deletable": false,
    "editable": false,
    "nbgrader": {
     "cell_type": "code",
     "checksum": "a6a4aff709b02cd289b8cc519c9dca4a",
     "grade": false,
     "grade_id": "cell-c9fa4518f335955e",
     "locked": true,
     "schema_version": 3,
     "solution": false,
     "task": false
    }
   },
   "outputs": [
    {
     "data": {
      "text/plain": [
       "(array([16, 17], dtype=int64), array([1, 2], dtype=int64))"
      ]
     },
     "execution_count": 10,
     "metadata": {},
     "output_type": "execute_result"
    }
   ],
   "source": [
    "g = Grid(0,1,0,1,10,10)\n",
    "try:\n",
    "    b = basis.Basis()\n",
    "except:\n",
    "    b = Basis()\n",
    "globalBasis = GlobalBasis(g,b)\n",
    "\n",
    "globalBasis.evalDOFMap(9)"
   ]
  },
  {
   "cell_type": "code",
   "execution_count": null,
   "metadata": {
    "deletable": false,
    "editable": false,
    "nbgrader": {
     "cell_type": "code",
     "checksum": "c0d4fa1e20bada2a174d636a121f95a1",
     "grade": true,
     "grade_id": "cell-d1c5a292f0137a0d",
     "locked": true,
     "points": 4,
     "schema_version": 3,
     "solution": false,
     "task": false
    }
   },
   "outputs": [],
   "source": []
  },
  {
   "cell_type": "code",
   "execution_count": null,
   "metadata": {},
   "outputs": [],
   "source": []
  },
  {
   "cell_type": "code",
   "execution_count": null,
   "metadata": {},
   "outputs": [],
   "source": []
  },
  {
   "cell_type": "code",
   "execution_count": null,
   "metadata": {},
   "outputs": [],
   "source": []
  }
 ],
 "metadata": {
  "kernelspec": {
   "display_name": "Python 3",
   "language": "python",
   "name": "python3"
  },
  "language_info": {
   "codemirror_mode": {
    "name": "ipython",
    "version": 3
   },
   "file_extension": ".py",
   "mimetype": "text/x-python",
   "name": "python",
   "nbconvert_exporter": "python",
   "pygments_lexer": "ipython3",
   "version": "3.8.8"
  }
 },
 "nbformat": 4,
 "nbformat_minor": 2
}
