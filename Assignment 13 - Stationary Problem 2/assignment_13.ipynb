{
 "cells": [
  {
   "cell_type": "markdown",
   "metadata": {},
   "source": [
    "Before you turn this problem in, make sure everything runs as expected. First, **restart the kernel** (in the menubar, select Kernel$\\rightarrow$Restart) and then **run all cells** (in the menubar, select Cell$\\rightarrow$Run All).\n",
    "\n",
    "Make sure you fill in any place that says `YOUR CODE HERE` or \"YOUR ANSWER HERE\", as well as your name and collaborators below:"
   ]
  },
  {
   "cell_type": "code",
   "execution_count": 1,
   "metadata": {},
   "outputs": [],
   "source": [
    "NAME = \"Gasper Bizjan\""
   ]
  },
  {
   "cell_type": "markdown",
   "metadata": {},
   "source": [
    "---"
   ]
  },
  {
   "cell_type": "markdown",
   "metadata": {
    "deletable": false,
    "editable": false,
    "nbgrader": {
     "cell_type": "markdown",
     "checksum": "f87764d02eac914a7df021f08fde261e",
     "grade": false,
     "grade_id": "cell-bb5148102f5e12c1",
     "locked": true,
     "schema_version": 3,
     "solution": false,
     "task": false
    }
   },
   "source": [
    "## 13 Discrete System Part II\n",
    "\n",
    "In this assignment we will bring all knowledge from the further assignment together. Assume a domain $\\Omega\\subset\\mathbb{R}^d$ and $f\\colon \\Omega \\to \\mathbb{R}$ and $g\\colon\\Gamma\\subset\\partial\\Omega\\to\\mathbb{R}$. We want to find a $u\\in V$ for which the following equation holds\n",
    "\n",
    "$$\n",
    "\\int_\\Omega cu\\phi + a\\nabla u \\nabla\\phi = \\int_\\Omega f\\phi   \\qquad \\forall \\phi\\in V. \\qquad (1)\n",
    "$$\n",
    "\n",
    "where $a,c$ are well choosen constants and $V= \\{ u \\in H^1 | u = g \\text{ on } \\Gamma, \\partial_n u = 0  \\text{ on } \\partial\\Omega\\backslash \\Gamma \\}$. By a full finite element discretization we have a discrete function space $V_h$ given by a lagrangian basis $\\{\\varphi_j\\}_{j=0}^{N_p-1}$. We want to find a discrete solution $u_h = \\sum_{i=0}^{N_p-1}U_j\\varphi_j$ such that \n",
    "\n",
    "$$\n",
    "\\sum\\limits_{j=0}^{N_p-1}U_j\\int_\\Omega c\\varphi_j\\varphi_i + a\\nabla \\varphi_i \\nabla\\varphi_j = \\int_\\Omega f\\varphi_i   \\qquad \\forall i\\text{ free Dofs} \\qquad (2)\n",
    "$$\n",
    "\n",
    "and $U_j=g(x_j)$ for $x_j\\in\\Gamma$. As introduced in the lecture, this can be written as a linear system $AU=b$. We will split the system matrix $A$ by following way\n",
    "\n",
    "$$\n",
    "A_{ij} = \\begin{cases}\n",
    "cD_{ij} + aM_{ij}  & i \\in \\text{ free Dofs} \\\\\n",
    "\\delta_{ij} & \\text{ else}\n",
    "\\end{cases} \n",
    "\\quad \\forall j = 0,...,N_p-1 \\quad (3)\n",
    "$$\n",
    "\n",
    "$$\n",
    "M_{ij} = \\begin{cases}\n",
    "\\int_\\Omega \\varphi_j\\varphi_i  & i \\in \\text{ free Dofs} \\\\\n",
    "0 & \\text{ else}\n",
    "\\end{cases} \n",
    "\\quad \\forall j = 0,...,N_p-1 \\quad (4)\n",
    "$$\n",
    "\n",
    "$$\n",
    "D_{ij} = \\begin{cases}\n",
    "\\int_\\Omega \\nabla\\varphi_j\\nabla\\varphi_i  & i \\in \\text{ free Dofs} \\\\\n",
    "0 & \\text{ else}\n",
    "\\end{cases} \n",
    "\\quad \\forall j = 0,...,N_p-1 \\quad (5)\n",
    "$$\n",
    "\n",
    "$$\n",
    "b_{i} = \\begin{cases}\n",
    "\\int_\\Omega f\\varphi_i  & i \\in \\text{ free Dofs} \\\\\n",
    "g(x_i) & \\text{ else}\n",
    "\\end{cases}  \n",
    "\\quad (6)\n",
    "$$\n",
    "\n",
    "\n",
    "\n",
    "\n",
    "Hint: By choosing $U_j=g(x_j)$ for $x_j\\in\\Gamma$ thoose degrees of freedom are fixed and known befor solving the system. All the other Dofs are free and unknown. "
   ]
  },
  {
   "cell_type": "markdown",
   "metadata": {},
   "source": [
    "### 13.1 Theory\n",
    "\n",
    "#### 13.1.1 Preparation\n",
    "Derive step by step such that the we can approxmimate the components of $M$ and $D$ for the free Dofs $i$ and all Dofs $j$ by the following equation for a given quadrature rule with points $\\{\\hat{x},\\hat{y}\\}$ and weights $\\{\\hat{w}\\}$ (7 points)\n",
    "\n",
    "$$\n",
    "M_{ij} \\approx \n",
    "\\sum \\limits_{T \\in \\operatorname{supp}(\\varphi_i)\\cap\\operatorname{supp}(\\varphi_j)} \n",
    "\\sum \\limits_{\\hat{x},\\hat{y},\\hat{w}} \\hat{w} \\cdot \\hat{\\phi}_{D(i,T)}(\\hat{x},\\hat{y})\\cdot\\hat{\\phi}_{D(j,T)}(\\hat{x},\\hat{y})\\cdot \\vert \\operatorname{det}DF_T \\vert \n",
    "$$\n",
    "\n",
    "$$\n",
    "D_{ij} \\approx \\sum \\limits_{T \\in \\operatorname{supp}(\\varphi_i)\\cap\\operatorname{supp}(\\varphi_j)} \\sum \\limits_{\\hat{x},\\hat{y},\\hat{w}} \\hat{w} \\cdot (DF^{-T}\\nabla\\hat{\\phi}_{D(i,T)}(\\hat{x},\\hat{y}))\\cdot(DF^{-T}\\nabla\\hat{\\phi}_{D(j,T)}(\\hat{x},\\hat{y}))\\cdot \\vert \\operatorname{det}DF_T \\vert \n",
    "$$\n",
    "\n",
    "\n",
    "\n",
    "#### 13.1.2 Optimal Approximation \n",
    "In 13.1.1 we can only approximate the elements if $D$ and $M$. Under which conditions is the caculation of 13.1.1 exact? (In other word, under which conditions I can write \"$=$\" instead of \"$\\approx$\"). Consider that we have the same quadrature rule for $M$ and $D$. (2 points)\n",
    "\n",
    "\n",
    "\n",
    "\n",
    "\n",
    "\n",
    " "
   ]
  },
  {
   "cell_type": "markdown",
   "metadata": {},
   "source": [
    "You answer here or in a pdf file"
   ]
  },
  {
   "cell_type": "code",
   "execution_count": null,
   "metadata": {
    "deletable": false,
    "editable": false,
    "nbgrader": {
     "cell_type": "code",
     "checksum": "0731299df01c675027dff866a5db6c54",
     "grade": true,
     "grade_id": "cell-57850bcdddd19165",
     "locked": true,
     "points": 9,
     "schema_version": 3,
     "solution": false,
     "task": false
    }
   },
   "outputs": [],
   "source": []
  },
  {
   "cell_type": "markdown",
   "metadata": {
    "deletable": false,
    "editable": false,
    "nbgrader": {
     "cell_type": "markdown",
     "checksum": "cc3ec051aea0554e1174ccd4213ae63f",
     "grade": false,
     "grade_id": "cell-241a4c4a9dd5438f",
     "locked": true,
     "schema_version": 3,
     "solution": false,
     "task": false
    }
   },
   "source": [
    "### 13.2 Stationary Problem and the left hand site assembly\n",
    "\n",
    "In this assignment we will finish the ```StationaryProblem``` by assembling the Boundary Conditions and the system matrix. The matrizes $M$ and $D$ will be assembled by initialization of the class and by the schemes of 13.1.1.  \n",
    "\n",
    "#### 13.2.1 Understanding (not graded)\n",
    "You know some part of the code block below by the last assignment. Understand the new Functionality. Check also the class ```GlobalBasis``` and understand the function ```evalSharedDOFMap```. Compared to assignment 12 the optional arguments support vectorizing now.\n",
    "\n",
    "#### 13.2.2  Boundary Conditions. \n",
    "\n",
    "Write a member function ```assembleBoundaryConditions``` which assemble the dirichlet Dofs of $A$ and $b$ as in the scheme (3) and (6). You can modify thoos Dofs directly in the system matrix and in the system vector. <br>\n",
    "<b>INPUT:</b>  ```g``` lambda function ```g = lambda x,y: foo``` values of $u$ on the boundary (as $g$ as above).  \n",
    "\n",
    "Hints:<br> \n",
    "Understand the member function ```assemble``` to understand the interaction of the dirichlet Dofs of $A,M,D$. <br>\n",
    "For debugging, check Dirichlet, Neumann and mixed boundary conditions.\n",
    "\n",
    "#### 13.2.3 initalMass $M$\n",
    "Write a member function ```initialMass``` which assembles the free degrees of freedom of the mass matrix $M$ and store the values in the member ```self.mass```. Make sure that prefactor $c$ of the Reaction term is NOT part of $M$. \n",
    "<br>Hint: No Input and no return value. \n",
    "\n",
    "#### 13.2.4 initalDiffusion $D$\n",
    "Write a member function ```initialDiffusion``` which assembles the free degrees of freedom of the diffusion matrix $D$ and store the values in the member ```self.diffusion```. Make sure that prefactor $a$ of the Diffusion term is NOT part of $D$. \n",
    "<br>Hint: No Input and no return value. \n",
    "\n",
    "#### 13.2.5 solving\n",
    "Write a member function ```solve``` which solves the linear system $AU=b$ and stores $U$ as the solution vector ```self.solution```. \n",
    "<br>Hint: No Input and no return value. "
   ]
  },
  {
   "cell_type": "code",
   "execution_count": 20,
   "metadata": {
    "deletable": false,
    "nbgrader": {
     "cell_type": "code",
     "checksum": "81e7b727554298f14e4885121294a6d0",
     "grade": false,
     "grade_id": "cell-b16f74bc45cbe660",
     "locked": false,
     "schema_version": 3,
     "solution": true,
     "task": false
    }
   },
   "outputs": [],
   "source": [
    "import numpy as np\n",
    "import matplotlib.pyplot as plt\n",
    "import matplotlib.tri as triang\n",
    "\n",
    "import grid\n",
    "import basis\n",
    "import quadrule\n",
    "\n",
    "class StationaryProblem():\n",
    "    def __init__(self, globalBasis, quadrature, dirichletLocations = (lambda x,y: np.ones_like(x,dtype=bool)), dirichletValues = (lambda x,y: np.zeros_like(x))):\n",
    "        self.grid = globalBasis.grid\n",
    "        self.basis = globalBasis.basis\n",
    "        self.globalBasis = globalBasis\n",
    "        self.quadrature = quadrature\n",
    "        \n",
    "        # Boundary Conditions\n",
    "        self.dirichletDOFs = self.grid.getBoundaryIndices(dirichletLocations)\n",
    "        self.allDOFs = np.arange(np.shape(self.grid.points)[0])\n",
    "        self.freeDOFs = np.setdiff1d(np.arange(np.shape(self.grid.points)[0]),self.dirichletDOFs)\n",
    "    \n",
    "        # Precompute data that is needed all the time.\n",
    "        self.xkHat,self.wkHat = self.quadrature.getPointsAndWeights() # x_k and w_k\n",
    "        self.xkTrafo = self.grid.evalReferenceMap(self.xkHat)  # x_k and w_k\n",
    "        self.adet = self.grid.getDeterminants() # abs(det(DT))\n",
    "        self.invJacT = self.grid.getInverseJacobiansT() # DT^-T\n",
    "    \n",
    "        # phi(x_k) and grad_phi(x_k)\n",
    "        self.phi = self.basis.evalPhi(self.xkHat)\n",
    "        self.gradPhi = self.basis.evalGradPhi(self.xkHat)\n",
    "\n",
    "        # the new functionality is added here\n",
    "        #\n",
    "        # Initializing\n",
    "        self.systemMatrix = np.zeros((np.shape(self.grid.points)[0],np.shape(self.grid.points)[0]))\n",
    "        self.systemVector = np.zeros(np.shape(self.grid.points)[0])\n",
    "        self.solution = None\n",
    "\n",
    "        # Default Matrizes for the assembler of the system Matrix. \n",
    "        # The Massmatrix. (phi_j , phi_i)_L2\n",
    "        # The Diffusionmatrix (nabla phi_j , nabla phi_i)_L2\n",
    "        self.mass = np.zeros((np.shape(self.grid.points)[0],np.shape(self.grid.points)[0]))\n",
    "        self.diffusion = np.zeros((np.shape(self.grid.points)[0],np.shape(self.grid.points)[0]))\n",
    "    \n",
    "        # initial functions\n",
    "        self.initialMass()\n",
    "        self.initialDiffusion()\n",
    "        self.a = 0.0\n",
    "        self.c = 0.0\n",
    "        self.assembleBoundaryConditions(dirichletValues)\n",
    "        #\n",
    "        # end init \n",
    "  \n",
    "    # the function added in assignment 12\n",
    "    def addSource(self, f):\n",
    "        for i in self.freeDOFs:\n",
    "            supp,localInd = self.globalBasis.evalDOFMap(i)\n",
    "            for T,loc_i in zip(supp,localInd):\n",
    "                self.systemVector[i] += self.adet[T] * np.sum(self.phi[:,loc_i] * self.wkHat * f(self.xkTrafo[T,:,0],self.xkTrafo[T,:,1]))\n",
    "    \n",
    "    # setter functions for the prefactors of D and M\n",
    "    def setReaction(self,c):\n",
    "        self.c = c\n",
    "    \n",
    "    def setDiffusion(self,a):    \n",
    "        self.a = a\n",
    "\n",
    "    def assemble(self):\n",
    "        self.systemMatrix += self.c*self.mass + self.a*self.diffusion\n",
    "  \n",
    "  # #####################\n",
    "    \n",
    "    def initialMass(self):\n",
    "        for i in self.freeDOFs:\n",
    "                for j in self.freeDOFs:\n",
    "                    supp_ij, localInd_i, localInd_j = self.globalBasis.evalSharedDOFMap(i, j)\n",
    "                    for T,loc_i,loc_j in zip(supp_ij,localInd_i,localInd_j):\n",
    "                        self.mass[i, j] += self.adet[T] * np.sum(self.phi[:,loc_i] * self.phi[:,loc_j] * self.wkHat)\n",
    "        \n",
    "    def initialDiffusion(self):\n",
    "        for k in range(len(self.wkHat)):\n",
    "            for i in self.freeDOFs:\n",
    "                for j in self.freeDOFs:\n",
    "                    supp_ij,localInd_i,localInd_j = self.globalBasis.evalSharedDOFMap(i, j)\n",
    "                    for T,loc_i,loc_j in zip(supp_ij,localInd_i,localInd_j):\n",
    "                        self.diffusion[i, j] += self.adet[T] * self.wkHat[k] * (self.invJacT[T]@self.gradPhi[k,loc_i]) @ (self.invJacT[T]@self.gradPhi[k,loc_j])\n",
    "\n",
    "\n",
    "    def assembleBoundaryConditions(self, g = lambda x,y: foo):\n",
    "        # System matrix boundary condition\n",
    "        self.systemMatrix[self.dirichletDOFs,self.dirichletDOFs] = 1.0\n",
    "        # System vector boundary condition\n",
    "        self.systemVector[self.dirichletDOFs] = g(self.grid.points[:,0], self.grid.points[:,1])[self.dirichletDOFs]\n",
    "        \n",
    "    def solve(self):\n",
    "        self.assemble()\n",
    "        #print(self.systemMatrix)\n",
    "        #print(self.systemVector)\n",
    "        self.solution = np.linalg.solve(self.systemMatrix, self.systemVector)\n",
    "        return self.solution\n",
    "  \n",
    "  ################################\n",
    "    \n",
    "    def show(self):\n",
    "        fig = plt.figure()\n",
    "        # limits\n",
    "        ax = fig.add_subplot(1,1,1)\n",
    "        ax.set_xlim([self.globalBasis.grid.xlow, self.globalBasis.grid.xhigh])\n",
    "        ax.set_ylim([self.globalBasis.grid.ylow, self.globalBasis.grid.yhigh])\n",
    "        ax.axis('equal')\n",
    "        Triangulation = triang.Triangulation(self.globalBasis.grid.points[:,0],self.globalBasis.grid.points[:,1],self.globalBasis.grid.cells)\n",
    "        tri = ax.tripcolor(Triangulation,self.solution,shading='gouraud')\n",
    "        fig.colorbar(tri)\n",
    "        plt.show()"
   ]
  },
  {
   "cell_type": "code",
   "execution_count": null,
   "metadata": {
    "deletable": false,
    "editable": false,
    "nbgrader": {
     "cell_type": "code",
     "checksum": "7954deb8f7b331c3b1d493e93c7d5fcc",
     "grade": true,
     "grade_id": "cell-4303a59b3d860a79",
     "locked": true,
     "points": 4,
     "schema_version": 3,
     "solution": false,
     "task": false
    }
   },
   "outputs": [],
   "source": []
  },
  {
   "cell_type": "code",
   "execution_count": null,
   "metadata": {
    "deletable": false,
    "editable": false,
    "nbgrader": {
     "cell_type": "code",
     "checksum": "fe2fecd285b0cf3ee8ed404895ec69ee",
     "grade": true,
     "grade_id": "cell-d4a9cda1f76b4f7a",
     "locked": true,
     "points": 4,
     "schema_version": 3,
     "solution": false,
     "task": false
    }
   },
   "outputs": [],
   "source": []
  },
  {
   "cell_type": "code",
   "execution_count": null,
   "metadata": {
    "deletable": false,
    "editable": false,
    "nbgrader": {
     "cell_type": "code",
     "checksum": "876e3900634da74ec40c151b00e370d5",
     "grade": true,
     "grade_id": "cell-ec689693ede19aa9",
     "locked": true,
     "points": 4,
     "schema_version": 3,
     "solution": false,
     "task": false
    }
   },
   "outputs": [],
   "source": []
  },
  {
   "cell_type": "markdown",
   "metadata": {
    "deletable": false,
    "editable": false,
    "nbgrader": {
     "cell_type": "markdown",
     "checksum": "92652d8fdcc25691a504b930937a625a",
     "grade": false,
     "grade_id": "cell-e663c7e2a5b1fdc7",
     "locked": true,
     "schema_version": 3,
     "solution": false,
     "task": false
    }
   },
   "source": [
    "#### 13.3 Solve a Problem (this part is graded but you can pass the assignment without)\n",
    "\n",
    "Let assume the given problem \n",
    "$$\n",
    "c \\int_\\Omega u\\phi + a\\int_\\Omega\\nabla u \\nabla\\phi = \\int_\\Omega f\\phi   \\qquad \\forall \\phi\\in V.\n",
    "$$\n",
    "\n",
    "where $a=1$ and $c=0.1$ on the domain $\\Omega=[-1,1]^2$ with $\\Gamma=\\{(x,y)\\vert x=1\\}$ and a given source term $f(x,y)=1.0$ and boundary values $g(x,y)=0$. Inital a stationary problem call ```problem``` and solve it. Use a regular uniform grid with $10\\times10$ points and a second order quadrature rule. Show the solution. \n",
    "\n",
    "Hint: you can find all the classes you need in the corresponding files. "
   ]
  },
  {
   "cell_type": "code",
   "execution_count": 23,
   "metadata": {
    "deletable": false,
    "nbgrader": {
     "cell_type": "code",
     "checksum": "acc6714c1dcf3f3a1398ea71037e1b2d",
     "grade": false,
     "grade_id": "cell-800afad2ff5b3dcf",
     "locked": false,
     "schema_version": 3,
     "solution": true,
     "task": false
    }
   },
   "outputs": [
    {
     "data": {
      "image/png": "[encoded data removed]",
      "text/plain": [
       "<Figure size 432x288 with 2 Axes>"
      ]
     },
     "metadata": {
      "needs_background": "light"
     },
     "output_type": "display_data"
    }
   ],
   "source": [
    "np.set_printoptions(precision=2, suppress=True)\n",
    "\n",
    "# grid, basis\n",
    "g = grid.Grid(-1,1,-1,1,10,10)\n",
    "b = basis.Basis()\n",
    "# global basis\n",
    "globalB = basis.GlobalBasis(g, b)\n",
    "#  Quadrature rule\n",
    "qr = quadrule.QuadratureRule(2)\n",
    "\n",
    "# Source\n",
    "f = lambda x,y: np.ones_like(x)\n",
    "\n",
    "# Locator\n",
    "loc = lambda x,y: x==1\n",
    "\n",
    "# Stationary problem\n",
    "problem = StationaryProblem(globalB, qr, dirichletLocations = loc, dirichletValues = (lambda x,y: np.zeros_like(x)))\n",
    "problem.addSource(f)\n",
    "problem.setReaction(0.1)\n",
    "problem.setDiffusion(1)\n",
    "problem.solve()\n",
    "problem.show()"
   ]
  },
  {
   "cell_type": "code",
   "execution_count": null,
   "metadata": {
    "deletable": false,
    "editable": false,
    "nbgrader": {
     "cell_type": "code",
     "checksum": "470c7537cbd1bbc71cf902484ce657a7",
     "grade": true,
     "grade_id": "cell-9e3f6a1e999d11bb",
     "locked": true,
     "points": 3,
     "schema_version": 3,
     "solution": false,
     "task": false
    }
   },
   "outputs": [],
   "source": []
  },
  {
   "cell_type": "code",
   "execution_count": null,
   "metadata": {},
   "outputs": [],
   "source": []
  },
  {
   "cell_type": "code",
   "execution_count": null,
   "metadata": {},
   "outputs": [],
   "source": []
  }
 ],
 "metadata": {
  "kernelspec": {
   "display_name": "Python 3",
   "language": "python",
   "name": "python3"
  },
  "language_info": {
   "codemirror_mode": {
    "name": "ipython",
    "version": 3
   },
   "file_extension": ".py",
   "mimetype": "text/x-python",
   "name": "python",
   "nbconvert_exporter": "python",
   "pygments_lexer": "ipython3",
   "version": "3.8.8"
  }
 },
 "nbformat": 4,
 "nbformat_minor": 2
}
