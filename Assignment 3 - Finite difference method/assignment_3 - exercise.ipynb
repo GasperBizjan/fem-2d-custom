{
 "cells": [
  {
   "cell_type": "markdown",
   "metadata": {},
   "source": [
    "Before you turn this problem in, make sure everything runs as expected. First, **restart the kernel** (in the menubar, select Kernel$\\rightarrow$Restart) and then **run all cells** (in the menubar, select Cell$\\rightarrow$Run All).\n",
    "\n",
    "Make sure you fill in any place that says `YOUR CODE HERE` or \"YOUR ANSWER HERE\", as well as your name and collaborators below:"
   ]
  },
  {
   "cell_type": "code",
   "execution_count": 1,
   "metadata": {},
   "outputs": [],
   "source": [
    "NAME = \"Gasper Bizjan\""
   ]
  },
  {
   "cell_type": "markdown",
   "metadata": {},
   "source": [
    "---"
   ]
  },
  {
   "cell_type": "markdown",
   "metadata": {
    "deletable": false,
    "editable": false,
    "nbgrader": {
     "cell_type": "markdown",
     "checksum": "77b4dbcf0acb46d52c512465044698d7",
     "grade": false,
     "grade_id": "cell-f64a2b8a267eb560",
     "locked": true,
     "schema_version": 3,
     "solution": false,
     "task": false
    }
   },
   "source": [
    "## Assignment 3 - Finite Differences\n",
    "This assignment sheet will guide you through the process of setting up a Finite Difference Method (FDM) for the Poisson equation on a square domain \n",
    "$$-\\Delta u = f \\text{ in }\\Omega=[a,b]^2$$\n",
    "with homogenous Dirichlet boundary conditions\n",
    "$$ u = 0 \\text{ on } \\delta \\Omega$$ ."
   ]
  },
  {
   "cell_type": "markdown",
   "metadata": {
    "deletable": false,
    "editable": false,
    "nbgrader": {
     "cell_type": "markdown",
     "checksum": "a2cd3b679ef86a95485c23b76f7d8091",
     "grade": false,
     "grade_id": "cell-27e321aec04cdad9",
     "locked": true,
     "schema_version": 3,
     "solution": false,
     "task": false
    }
   },
   "source": [
    "### 3.1 - Grid generation\n",
    "In this part we will write a function ```generateGrid``` which generates an equistant grid for the domain $\\Omega = [a,b]^2$ with $N$ grid-points in each direction.<br>\n",
    "<b>INPUT:</b> $a,b$ - domain boundaries, $N$ - number of grid-points per direction<br>\n",
    "<b>OUTPUT:</b> $grid$ - an array of dimension $N^2 \\times 2$ with coordinates of all points."
   ]
  },
  {
   "cell_type": "code",
   "execution_count": 2,
   "metadata": {
    "deletable": false,
    "nbgrader": {
     "cell_type": "code",
     "checksum": "b8800b8aadd40d68218ffb8f023a5631",
     "grade": false,
     "grade_id": "cell-d1672f922d2f957c",
     "locked": false,
     "schema_version": 3,
     "solution": true,
     "task": false
    }
   },
   "outputs": [
    {
     "name": "stdout",
     "output_type": "stream",
     "text": [
      "[[0.  0. ]\n",
      " [0.5 0. ]\n",
      " [1.  0. ]\n",
      " [0.  0.5]\n",
      " [0.5 0.5]\n",
      " [1.  0.5]\n",
      " [0.  1. ]\n",
      " [0.5 1. ]\n",
      " [1.  1. ]]\n"
     ]
    }
   ],
   "source": [
    "import numpy as np\n",
    "\n",
    "# YOUR CODE HERE\n",
    "def generateGrid(a, b, N):\n",
    "    '''\n",
    "    generateGrid generates an equidistant grid for the domain  Ω=[𝑎,𝑏]^2  with  𝑁  grid-points in each direction.\n",
    "    𝑎,𝑏  - domain boundaries,  \n",
    "    𝑁  - number of grid-points per direction\n",
    "    '''\n",
    "    x = np.linspace(a, b, N) # 1D of the equidistant grid\n",
    "    X, Y = np.meshgrid(x, x)  # 2D grid with matrix-representation NxN\n",
    "    grid = np.stack( (np.squeeze(np.reshape(X, (N**2,1))),\n",
    "                      np.squeeze(np.reshape(Y, (N**2,1)))  ), axis=1)\n",
    "    \n",
    "    # Other way\n",
    "    #grid = np.zeros([N**2,2])\n",
    "    #grid[:,0]=X.flatten()\n",
    "    #grid[:,1]=Y.flatten()\n",
    "    \n",
    "    return grid\n",
    "\n",
    "g = generateGrid(0,1,3)\n",
    "print(g)"
   ]
  },
  {
   "cell_type": "code",
   "execution_count": null,
   "metadata": {
    "deletable": false,
    "editable": false,
    "nbgrader": {
     "cell_type": "code",
     "checksum": "6021f59e659e2bfeab9afa259bee0c9e",
     "grade": true,
     "grade_id": "cell-e19bcb2967fba2cc",
     "locked": true,
     "points": 1,
     "schema_version": 3,
     "solution": false,
     "task": false
    }
   },
   "outputs": [],
   "source": []
  },
  {
   "cell_type": "code",
   "execution_count": null,
   "metadata": {
    "deletable": false,
    "editable": false,
    "nbgrader": {
     "cell_type": "code",
     "checksum": "125b3498f4a036852038233b52698011",
     "grade": true,
     "grade_id": "cell-5b300bbf73078c2d",
     "locked": true,
     "points": 1,
     "schema_version": 3,
     "solution": false,
     "task": false
    }
   },
   "outputs": [],
   "source": []
  },
  {
   "cell_type": "code",
   "execution_count": null,
   "metadata": {
    "deletable": false,
    "editable": false,
    "nbgrader": {
     "cell_type": "code",
     "checksum": "43a7501be9fecc6f6558e81896d518de",
     "grade": true,
     "grade_id": "cell-f2db09e7ac25f927",
     "locked": true,
     "points": 1,
     "schema_version": 3,
     "solution": false,
     "task": false
    }
   },
   "outputs": [],
   "source": []
  },
  {
   "cell_type": "markdown",
   "metadata": {
    "deletable": false,
    "editable": false,
    "nbgrader": {
     "cell_type": "markdown",
     "checksum": "3320f8132a541cfffc65e4b47b8ccc84",
     "grade": false,
     "grade_id": "cell-6f6b06731a84e9b2",
     "locked": true,
     "schema_version": 3,
     "solution": false,
     "task": false
    }
   },
   "source": [
    "### 3.2 - Assembly of the linear system\n",
    "Here we will assemble the linear system corresponding with a Finite Difference scheme with respect to a certain grid. For a grid with $N\\times N$ points our system has the size $N^2$ - remember why? - and the matrix entries are given by \n",
    "$$a_{ij} = \\begin{cases}\n",
    "\t\t\t\t\\text{if }P_i\\in\\delta\\Omega & \\begin{cases}\n",
    "\t\t\t\t1 & \\text{if }j=i\\\\\n",
    "\t\t\t\t0 &\\text{otherwise}\n",
    "\t\t\t\t\\end{cases}\\\\\n",
    "\t\t\t\t\\text{if }P_i\\not\\in\\delta\\Omega & \\begin{cases}\n",
    "\t\t\t\t\\dfrac{4}{h^2} & \\text{ if }j=i\\\\\n",
    "\t\t\t\t\\dfrac{-1}{h^2} & \\text{ if } j\\in\\lbrace i-1,i+1,i-N,i+N\\rbrace\\\\\n",
    "\t\t\t\t0 & \\text{ otherwise}\n",
    "\t\t\t\t\\end{cases}\n",
    "\t\t\t\t\\end{cases}$$\n",
    "while the right-hand side is given by\n",
    "$$ l_i = \\begin{cases}\n",
    "0 & \\text{ if }P_i \\in \\delta \\Omega \\\\\n",
    "f(P_i) & \\text{ otherwise }\n",
    "\\end{cases}$$\n",
    "with function values $f(P_i)$ at certain grid points.<br><br>\n",
    "Write a function ```assembleSystem```. <br>\n",
    "<b>INPUT:</b> $grid$ - an array of dimension $N^2 \\times 2$ with coordinates of all points, $f:\\mathbb{R}^2\\rightarrow \\mathbb{R}$ - a <i>lambda-function</i>  <br>\n",
    "<b>OUTPUT:</b> $A$ - an array of dimension $N^2 \\times N^2$, $l$ - an array of dimension $N^2$ <br><br>\n",
    "Hint: Passing this exercise does not depend on the previous exercise to be fulfilled. If needed, create a grid manually to test your function!"
   ]
  },
  {
   "cell_type": "code",
   "execution_count": 25,
   "metadata": {
    "deletable": false,
    "nbgrader": {
     "cell_type": "code",
     "checksum": "a98174cb3db9e0c43f9630c670507308",
     "grade": false,
     "grade_id": "cell-6cae2c411a59b5fa",
     "locked": false,
     "schema_version": 3,
     "solution": true,
     "task": false
    }
   },
   "outputs": [
    {
     "name": "stdout",
     "output_type": "stream",
     "text": [
      "[[ 1.  0.  0.  0.  0.  0.  0.  0.  0.  0.  0.  0.  0.  0.  0.  0.]\n",
      " [ 0.  1.  0.  0.  0.  0.  0.  0.  0.  0.  0.  0.  0.  0.  0.  0.]\n",
      " [ 0.  0.  1.  0.  0.  0.  0.  0.  0.  0.  0.  0.  0.  0.  0.  0.]\n",
      " [ 0.  0.  0.  1.  0.  0.  0.  0.  0.  0.  0.  0.  0.  0.  0.  0.]\n",
      " [ 0.  0.  0.  0.  1.  0.  0.  0.  0.  0.  0.  0.  0.  0.  0.  0.]\n",
      " [ 0. -9.  0.  0. -9. 36. -9.  0.  0. -9.  0.  0.  0.  0.  0.  0.]\n",
      " [ 0.  0. -9.  0.  0. -9. 36. -9.  0.  0. -9.  0.  0.  0.  0.  0.]\n",
      " [ 0.  0.  0.  0.  0.  0.  0.  1.  0.  0.  0.  0.  0.  0.  0.  0.]\n",
      " [ 0.  0.  0.  0.  0.  0.  0.  0.  1.  0.  0.  0.  0.  0.  0.  0.]\n",
      " [ 0.  0.  0.  0.  0. -9.  0.  0. -9. 36. -9.  0.  0. -9.  0.  0.]\n",
      " [ 0.  0.  0.  0.  0.  0. -9.  0.  0. -9. 36. -9.  0.  0. -9.  0.]\n",
      " [ 0.  0.  0.  0.  0.  0.  0.  0.  0.  0.  0.  1.  0.  0.  0.  0.]\n",
      " [ 0.  0.  0.  0.  0.  0.  0.  0.  0.  0.  0.  0.  1.  0.  0.  0.]\n",
      " [ 0.  0.  0.  0.  0.  0.  0.  0.  0.  0.  0.  0.  0.  1.  0.  0.]\n",
      " [ 0.  0.  0.  0.  0.  0.  0.  0.  0.  0.  0.  0.  0.  0.  1.  0.]\n",
      " [ 0.  0.  0.  0.  0.  0.  0.  0.  0.  0.  0.  0.  0.  0.  0.  1.]] [0. 0. 0. 0. 0. 1. 1. 0. 0. 1. 1. 0. 0. 0. 0. 0.]\n"
     ]
    }
   ],
   "source": [
    "import numpy as np\n",
    "\n",
    "# YOUR CODE HERE\n",
    "def assembleSystem(grid, f):\n",
    "    # Initiation of arrays and values\n",
    "    N = int(np.sqrt((np.shape(grid)[0])))# N float\n",
    "    h = abs(grid[1,0]-grid[0,0]) # step size of the grid\n",
    "    A = np.eye(N**2) # Identity matrix of size N**2\n",
    "    l = np.zeros(N**2)\n",
    "    \n",
    "    for i in range(0, N**2):   # A loop for i,j from 0 to n\n",
    "        if (i<N) or (i%N==0) or ((i+1)%N==0) or (i>(N-1)*N): # Select Boundary points\n",
    "            continue  # Do nothing; jumps all to next loop, A is already an identity matrix\n",
    "        \n",
    "        A[i,i] = 4.0/h**2\n",
    "        A[i,i-1] = -1.0/h**2\n",
    "        A[i,i+1] = -1.0/h**2\n",
    "        A[i,i-N] = -1.0/h**2\n",
    "        A[i,i+N] = -1.0/h**2\n",
    "        \n",
    "        l[i] = f(grid[i,0], grid[i,1])\n",
    "\n",
    "    return A, l\n",
    "\n",
    "grid = generateGrid(0,1,4)\n",
    "f=lambda x,y: 1\n",
    "A, l = assembleSystem(grid, f)\n",
    "print(A, l)"
   ]
  },
  {
   "cell_type": "code",
   "execution_count": null,
   "metadata": {
    "deletable": false,
    "editable": false,
    "nbgrader": {
     "cell_type": "code",
     "checksum": "5b6cf86abeb00d503ac698c714ed9cd7",
     "grade": true,
     "grade_id": "cell-74e4c0c71c91839d",
     "locked": true,
     "points": 1,
     "schema_version": 3,
     "solution": false,
     "task": false
    }
   },
   "outputs": [],
   "source": []
  },
  {
   "cell_type": "code",
   "execution_count": null,
   "metadata": {
    "deletable": false,
    "editable": false,
    "nbgrader": {
     "cell_type": "code",
     "checksum": "a3505a24e47451371360ff3d483c52ad",
     "grade": true,
     "grade_id": "cell-009b09ad9b45f18f",
     "locked": true,
     "points": 1,
     "schema_version": 3,
     "solution": false,
     "task": false
    }
   },
   "outputs": [],
   "source": []
  },
  {
   "cell_type": "code",
   "execution_count": null,
   "metadata": {
    "deletable": false,
    "editable": false,
    "nbgrader": {
     "cell_type": "code",
     "checksum": "f3915755e54d95f9af751a566f8ae6a6",
     "grade": true,
     "grade_id": "cell-4da4354390a506c7",
     "locked": true,
     "points": 1,
     "schema_version": 3,
     "solution": false,
     "task": false
    }
   },
   "outputs": [],
   "source": []
  },
  {
   "cell_type": "code",
   "execution_count": null,
   "metadata": {
    "deletable": false,
    "editable": false,
    "nbgrader": {
     "cell_type": "code",
     "checksum": "3c8625294db1856d2b20871f4e1b171b",
     "grade": true,
     "grade_id": "cell-2078265a96647aed",
     "locked": true,
     "points": 1,
     "schema_version": 3,
     "solution": false,
     "task": false
    }
   },
   "outputs": [],
   "source": []
  },
  {
   "cell_type": "markdown",
   "metadata": {
    "deletable": false,
    "editable": false,
    "nbgrader": {
     "cell_type": "markdown",
     "checksum": "7303bc7100e50c1128f2126ec3e454d1",
     "grade": false,
     "grade_id": "cell-2b0800328d1e0822",
     "locked": true,
     "schema_version": 3,
     "solution": false,
     "task": false
    }
   },
   "source": [
    "### 3.3 - vectorized Matrix assembler (Optional) \n",
    "Write the Matrix assembler ```assembleSystem``` from above again but vectorized by numpy functions. "
   ]
  },
  {
   "cell_type": "code",
   "execution_count": 26,
   "metadata": {
    "deletable": false,
    "nbgrader": {
     "cell_type": "code",
     "checksum": "52c55ecb4268d75e6680cd79017f2b4b",
     "grade": false,
     "grade_id": "cell-51fad3dfda083db2",
     "locked": false,
     "schema_version": 3,
     "solution": true,
     "task": false
    }
   },
   "outputs": [],
   "source": [
    "import numpy as np\n",
    "\n",
    "# YOUR CODE HERE"
   ]
  },
  {
   "cell_type": "markdown",
   "metadata": {
    "deletable": false,
    "editable": false,
    "nbgrader": {
     "cell_type": "markdown",
     "checksum": "552211bfd0a00425a32f4e369d86da7f",
     "grade": false,
     "grade_id": "cell-60a8562b16f0fe9f",
     "locked": true,
     "schema_version": 3,
     "solution": false,
     "task": false
    }
   },
   "source": [
    "### 3.4 - Solving the problem\n",
    "Solve the following poisson problem by using the functions defined above and visualize the solution. <br>\n",
    "\n",
    "$$-\\Delta u = 1 \\text{ in }\\Omega=[-1,1]^2$$\n",
    "$$ u = 0 \\text{ on } \\delta \\Omega$$"
   ]
  },
  {
   "cell_type": "code",
   "execution_count": 30,
   "metadata": {
    "deletable": false,
    "nbgrader": {
     "cell_type": "code",
     "checksum": "4314f4955c545af46928482687de8e69",
     "grade": false,
     "grade_id": "cell-8cbd839b768961ed",
     "locked": false,
     "schema_version": 3,
     "solution": true,
     "task": false
    }
   },
   "outputs": [
    {
     "name": "stderr",
     "output_type": "stream",
     "text": [
      "<ipython-input-30-4a6ac392b035>:21: MatplotlibDeprecationWarning: shading='flat' when X and Y have the same dimensions as C is deprecated since 3.3.  Either specify the corners of the quadrilaterals with X and Y, or pass shading='auto', 'nearest' or 'gouraud', or set rcParams['pcolor.shading'].  This will become an error two minor releases later.\n",
      "  ax.pcolormesh( g[:,0].reshape([N,N]), g[:,1].reshape([N,N]), u.reshape([N,N]) )\n"
     ]
    },
    {
     "data": {
      "image/png": "[encoded data removed]",
      "text/plain": [
       "<Figure size 432x432 with 1 Axes>"
      ]
     },
     "metadata": {
      "needs_background": "light"
     },
     "output_type": "display_data"
    }
   ],
   "source": [
    "import numpy as np\n",
    "import matplotlib.pyplot as plt\n",
    "from mpl_toolkits.mplot3d import Axes3D\n",
    "\n",
    "# YOUR CODE HERE\n",
    "# Solver\n",
    "a=-1\n",
    "b=1\n",
    "N=30\n",
    "f = lambda x,y: 1.0 #defindined 2D force vector\n",
    "g = generateGrid(a, b, N) # defined grid\n",
    "# Solves for u: A*u=l\n",
    "u = np.linalg.solve(assembleSystem(g, f)[0], assembleSystem(g, f)[1]) \n",
    "# Result #Uncomment to show results of array u\n",
    "# print(\"u=\", u) \n",
    "\n",
    "# Visualization\n",
    "plt.rcParams[\"figure.figsize\"] = [6, 6] # Seting size\n",
    "fig = plt.figure() # creating figure\n",
    "ax = fig.add_subplot(111)\n",
    "ax.pcolormesh( g[:,0].reshape([N,N]), g[:,1].reshape([N,N]), u.reshape([N,N]) )\n",
    "ax.set_xlabel(r'$x$')\n",
    "ax.set_ylabel(r'$y$')\n",
    "plt.show()"
   ]
  },
  {
   "cell_type": "code",
   "execution_count": null,
   "metadata": {
    "deletable": false,
    "editable": false,
    "nbgrader": {
     "cell_type": "code",
     "checksum": "6bd3e397d5a66c24391fec33e777d947",
     "grade": true,
     "grade_id": "cell-27ea493b1f19488b",
     "locked": true,
     "points": 3,
     "schema_version": 3,
     "solution": false,
     "task": false
    }
   },
   "outputs": [],
   "source": []
  },
  {
   "cell_type": "code",
   "execution_count": null,
   "metadata": {},
   "outputs": [],
   "source": []
  }
 ],
 "metadata": {
  "kernelspec": {
   "display_name": "Python 3",
   "language": "python",
   "name": "python3"
  },
  "language_info": {
   "codemirror_mode": {
    "name": "ipython",
    "version": 3
   },
   "file_extension": ".py",
   "mimetype": "text/x-python",
   "name": "python",
   "nbconvert_exporter": "python",
   "pygments_lexer": "ipython3",
   "version": "3.8.8"
  }
 },
 "nbformat": 4,
 "nbformat_minor": 2
}
