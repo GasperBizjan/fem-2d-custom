{
 "cells": [
  {
   "cell_type": "markdown",
   "metadata": {},
   "source": [
    "Before you turn this problem in, make sure everything runs as expected. First, **restart the kernel** (in the menubar, select Kernel$\\rightarrow$Restart) and then **run all cells** (in the menubar, select Cell$\\rightarrow$Run All).\n",
    "\n",
    "Make sure you fill in any place that says `YOUR CODE HERE` or \"YOUR ANSWER HERE\", as well as your name and collaborators below:"
   ]
  },
  {
   "cell_type": "code",
   "execution_count": 1,
   "metadata": {},
   "outputs": [],
   "source": [
    "NAME = \"Gasper Bizjan\""
   ]
  },
  {
   "cell_type": "markdown",
   "metadata": {},
   "source": [
    "---"
   ]
  },
  {
   "cell_type": "markdown",
   "metadata": {
    "deletable": false,
    "editable": false,
    "nbgrader": {
     "cell_type": "markdown",
     "checksum": "f93a7c8a2568832646ac5aa8efcbf4cd",
     "grade": false,
     "grade_id": "cell-bb5148102f5e12c1",
     "locked": true,
     "schema_version": 3,
     "solution": false,
     "task": false
    }
   },
   "source": [
    "## 10 Quadrature Rules on the Reference Triangle\n",
    "\n",
    "In this assignment we will implement the Quadrature Rule on the Reference Triangle $\\hat T$ to solving numerical integrals. \n",
    "Consider the typical reference configuration $\\hat{T}$ - the triangle with vertices $(0,0)$, $(1,0)$ and $(0,1)$.<br>\n",
    "The following rules are capable of integrating linear or quadratic polynomials exactly:\n",
    "<ol>\n",
    "<li> Linear: \n",
    "$$w_0 = \\dfrac{1}{2}$$\n",
    "$$ (\\hat{x}_0,\\hat{y}_0) = \\left(\\dfrac{1}{3},\\dfrac{1}{3}\\right)$$ </li>\n",
    "<li> Quadratic: \n",
    "$$w_0 = w_1 = w_2  = \\dfrac{1}{6}\\ $$\n",
    "$$ (\\hat{x}_0,\\hat{y}_0) = \\left(\\dfrac{1}{6},\\dfrac{1}{6}\\right)$$\n",
    "$$ (\\hat{x}_1,\\hat{y}_1) = \\left(\\dfrac{2}{3},\\dfrac{1}{6}\\right)$$\n",
    "$$ (\\hat{x}_2,\\hat{y}_2) = \\left(\\dfrac{1}{6},\\dfrac{2}{3}\\right)$$\n",
    "</li>\n",
    "    \n",
    "    \n",
    "We will approximate the Integral on the reference Triangle over a function $f\\colon \\hat{T}\\longrightarrow R$ by an discrete Integral \n",
    "$$ \n",
    "I_h(f) = \\sum \\limits_{i=0}^{N_{qp}} f(\\hat{x}_i,\\hat{y}_i) w_i \\approx \\int_{\\hat{T}} f(\\hat{x},\\hat{y}) d(\\hat{x},\\hat{y})\n",
    "$$\n",
    "\n",
    "    \n",
    "    "
   ]
  },
  {
   "cell_type": "markdown",
   "metadata": {
    "deletable": false,
    "editable": false,
    "nbgrader": {
     "cell_type": "markdown",
     "checksum": "22c67f11ca311a9cefa425bb1f1a9c62",
     "grade": false,
     "grade_id": "cell-241a4c4a9dd5438f",
     "locked": true,
     "schema_version": 3,
     "solution": false,
     "task": false
    }
   },
   "source": [
    "### 10.1 - Quadrature class\n",
    "Implement a class ```QuadratureRule``` that represents the quadrature points and the corresponding weights of a certain order of exacness. \n",
    "\n",
    "#### 10.1.1 - Contructor \n",
    "The constructor should initializes the members ```self.points``` and ```self.weights``` as numpy array with shape $N_{qp} \\times 2$ or $N_{qp}$, respectivily. The number of quadrature points $N_{qp}$ depends on the given order. The constructor should choise the first rule in case of linear and the secound rule in case of quadratic order. In case of  higher order choise the second rule  and print a warning. <br>\n",
    "<b>INPUT:</b> ```order```, Integer, polynomial order, which we want to integrate exactly by the quadrature rule.  \n",
    "\n",
    "#### 10.1.2 - getter function \n",
    "Write a function ```getPointsAndWeights``` which return the points and weights. <br>\n",
    "<b>OUTPUT:</b> tuple (points, weights)"
   ]
  },
  {
   "cell_type": "code",
   "execution_count": 2,
   "metadata": {
    "deletable": false,
    "nbgrader": {
     "cell_type": "code",
     "checksum": "6f223ee552d700f048cd45ddebc113b1",
     "grade": false,
     "grade_id": "cell-611f7feab532f872",
     "locked": false,
     "schema_version": 3,
     "solution": true,
     "task": false
    }
   },
   "outputs": [
    {
     "data": {
      "text/plain": [
       "(array([[0.16666667, 0.16666667],\n",
       "        [0.66666667, 0.16666667],\n",
       "        [0.16666667, 0.66666667]]),\n",
       " array([0.16666667, 0.16666667, 0.16666667]))"
      ]
     },
     "execution_count": 2,
     "metadata": {},
     "output_type": "execute_result"
    }
   ],
   "source": [
    "import numpy as np\n",
    "\n",
    "class QuadratureRule:\n",
    "    def __init__(self, order):\n",
    "        if order == 1:\n",
    "            self.points = np.array([[1/3, 1/3]])\n",
    "            self.weights = np.array([1/2])\n",
    "        elif order == 2:\n",
    "            self.points = np.array([[1/6, 1/6], [2/3, 1/6], [1/6, 2/3]])\n",
    "            self.weights = np.array([1/6, 1/6, 1/6])\n",
    "        elif order > 2:\n",
    "            print( f\"Error in order = {order} > 2. Choosing Quadratic order\")\n",
    "            self.points = np.array([[1/6, 1/6], [2/3, 1/6], [1/6, 2/3]])\n",
    "            self.weights = np.array([1/6, 1/6, 1/6])\n",
    "        else:\n",
    "            print(f\"Error in order input. Terminating\")\n",
    "\n",
    "    def getPointsAndWeights(self):\n",
    "        return self.points, self.weights\n",
    "    \n",
    "qr = QuadratureRule(2)\n",
    "qr.getPointsAndWeights()"
   ]
  },
  {
   "cell_type": "code",
   "execution_count": null,
   "metadata": {
    "deletable": false,
    "editable": false,
    "nbgrader": {
     "cell_type": "code",
     "checksum": "4396ab70c0021fbe6a5fb9f02e31d9d1",
     "grade": true,
     "grade_id": "cell-f4073594b8671d51",
     "locked": true,
     "points": 2,
     "schema_version": 3,
     "solution": false,
     "task": false
    }
   },
   "outputs": [],
   "source": []
  },
  {
   "cell_type": "code",
   "execution_count": null,
   "metadata": {
    "deletable": false,
    "editable": false,
    "nbgrader": {
     "cell_type": "code",
     "checksum": "9574bb2c61428798c86330dd7c993add",
     "grade": true,
     "grade_id": "cell-2a00d8a2449fd66d",
     "locked": true,
     "points": 2,
     "schema_version": 3,
     "solution": false,
     "task": false
    }
   },
   "outputs": [],
   "source": []
  },
  {
   "cell_type": "code",
   "execution_count": null,
   "metadata": {
    "deletable": false,
    "editable": false,
    "nbgrader": {
     "cell_type": "code",
     "checksum": "48222def66c97d4ec9d7c18037874ab3",
     "grade": true,
     "grade_id": "cell-b109569237a3fe44",
     "locked": true,
     "points": 2,
     "schema_version": 3,
     "solution": false,
     "task": false
    }
   },
   "outputs": [],
   "source": []
  },
  {
   "cell_type": "markdown",
   "metadata": {
    "deletable": false,
    "editable": false,
    "nbgrader": {
     "cell_type": "markdown",
     "checksum": "36ce59bf668ccbb7bceae631d608c7b1",
     "grade": false,
     "grade_id": "cell-688fb5fa485050b8",
     "locked": true,
     "schema_version": 3,
     "solution": false,
     "task": false
    }
   },
   "source": [
    "### 10.2 - Numerical Integration\n",
    "\n",
    "Let assume $\\Omega = \\mathbb{R}^2$ and $f(x,y) = e^{-(x^2+y^2)}$. We will compute the integral on $\\Omega$\n",
    "$$\n",
    "I(f) = \\int_{\\mathbb{R}^2} f(x,y) d(x,y) = \\pi\n",
    "$$\n",
    "numerically by using a grid a quadrature rule.  \n",
    "\n",
    "#### 10.2.1 - reference value (optional)\n",
    "Compute the $I$ by pen and paper. "
   ]
  },
  {
   "cell_type": "markdown",
   "metadata": {},
   "source": [
    "$$\n",
    "I(f) = \\int_{\\mathbb{R}^2} f(x,y) d(x,y) = \\int_{-\\infty}^{\\infty}\\int_{-\\infty}^{\\infty} e^{-(x^2+y^2)} \\text{d}x \\text{d}y\n",
    "$$\n",
    "\n",
    "We transform the integral $I(f(x,y))$ into polar coordinates $I(f(r,\\phi))$.\n",
    "$$\n",
    "I(f)=\\int_{0}^{\\infty}\\int_{0}^{2 \\pi} e^{-r^2} r \\text{ d}\\phi \\text{d}r = 2\\pi \\int_{0}^{\\infty} e^{-r^2} r \\text{ d}r\n",
    "$$\n",
    "\n",
    "Using a substitution $u=-r^2$ we get the integral\n",
    "$$\n",
    "I(f)=-\\pi \\int_{0}^{-\\infty} e^u \\text{d}u= -\\pi \\left[ e^u \\right]_0^{-\\infty} = -\\pi \\left[\\lim_{x \\to -\\infty} e^u - e^0 \\right]=-\\pi \\left[ 0 - 1 \\right]=\\pi \n",
    "$$"
   ]
  },
  {
   "cell_type": "markdown",
   "metadata": {
    "deletable": false,
    "editable": false,
    "nbgrader": {
     "cell_type": "markdown",
     "checksum": "d569f92075baf1c31bae646223325807",
     "grade": false,
     "grade_id": "cell-b7f934064832b17b",
     "locked": true,
     "schema_version": 3,
     "solution": false,
     "task": false
    }
   },
   "source": [
    "#### 10.2.2 - numerical value\n",
    "Compute a approximation ```Ih``` given by \n",
    "$$\n",
    "I_h(f) = \\sum \\limits_{T \\in \\tau_h} \\sum \\limits_{i=0}^{N_{qp}}  w_i f(F_T(\\hat{x}_i,\\hat{y}_i)) \\vert\\operatorname{det}DF_T\\vert  \\approx \\int_{\\mathbb{R}^2} f(x,y) d(x,y)\n",
    "$$ \n",
    "numerically. We can't discretize the whole domain ${\\mathbb{R}^2}$ by a grid. Choose grid $\\tau_h$ such that the discrete domain and the number of grid points are a compromise between afford and less approximation error. \n",
    "\n",
    "<b> Requirements: </b> Store your result in a variable ```Ih```.<br>\n",
    "Use not more the $500$ degrees of freedom (DOFs) to reach an approximation error of $\\vert I_h -\\pi\\vert < 10^{-5}$. \n",
    "\n",
    "\n",
    "<b>Hint:</b> the grid class is updated with the functionality from assignment 9. Use the quadrature rule from corresponding class above. If you haven't done this task, you write down the quadrature rule manually. "
   ]
  },
  {
   "cell_type": "code",
   "execution_count": 35,
   "metadata": {
    "deletable": false,
    "nbgrader": {
     "cell_type": "code",
     "checksum": "f6a55aae9886fa85e3780ea488c4f55b",
     "grade": false,
     "grade_id": "cell-f7b9081d8fb8e17d",
     "locked": false,
     "schema_version": 3,
     "solution": true,
     "task": false
    }
   },
   "outputs": [
    {
     "name": "stdout",
     "output_type": "stream",
     "text": [
      "DoF (two DoF per point) used: Nr. points = 484 \n",
      "Reached approximation error abs(pi-Ih)=9.532212248863914e-06\n"
     ]
    },
    {
     "data": {
      "image/png": "[encoded data removed]",
      "text/plain": [
       "<Figure size 576x576 with 2 Axes>"
      ]
     },
     "metadata": {
      "needs_background": "light"
     },
     "output_type": "display_data"
    },
    {
     "data": {
      "text/plain": [
       "<Figure size 576x576 with 0 Axes>"
      ]
     },
     "metadata": {},
     "output_type": "display_data"
    }
   ],
   "source": [
    "import numpy as np\n",
    "import matplotlib.pyplot as plt\n",
    "import grid\n",
    "plt.rcParams[\"figure.figsize\"] = [8, 8]\n",
    "\n",
    "# parameters: a - size in one direction, h - step size\n",
    "a = 3.4\n",
    "h = 22\n",
    "\n",
    "# defining grid, quadrature rule\n",
    "tauh = grid.Grid(-a, a, -a, a, h, h)\n",
    "qr = QuadratureRule(2)\n",
    "points, weights = qr.getPointsAndWeights()\n",
    "\n",
    "# define function\n",
    "f = lambda x: np.exp(-np.sum(x**2, axis=2))\n",
    "\n",
    "# Numerical integration\n",
    "Ih = np.sum(tauh.adet @ f(tauh.evalReferenceMap(points)) @ weights)\n",
    "\n",
    "# Ploting the grid and function\n",
    "x = np.linspace(-a, a)\n",
    "X, Y = np.meshgrid(x, x)\n",
    "Z = np.exp(-((X**2) + Y ** 2))\n",
    "contour = plt.contourf(X, Y, Z, cmap=plt.cm.coolwarm)\n",
    "plt.axis(\"equal\")\n",
    "plt.scatter(tauh.points[:, 0], tauh.points[:, 1], color='g')\n",
    "plt.triplot(tauh.points[:, 0], tauh.points[:, 1], tauh.cells, color='g')\n",
    "plt.colorbar(contour)\n",
    "plt.xlabel(\"x\")\n",
    "plt.ylabel(\"y\")\n",
    "plt.title(\"Grid and $f(x,y)=e^{-(x^2+y^2)}$\")\n",
    "fig = plt.figure()\n",
    "\n",
    "# Comparing numerical and analytical results\n",
    "print(f\"DoF (two DoF per point) used: Nr. points = {len(tauh.points)} \")\n",
    "print(f\"Reached approximation error abs(pi-Ih)={abs(Ih-np.pi)}\")"
   ]
  },
  {
   "cell_type": "code",
   "execution_count": null,
   "metadata": {
    "deletable": false,
    "editable": false,
    "nbgrader": {
     "cell_type": "code",
     "checksum": "9d0702ddcdee797b5bcf53ebd19cb35f",
     "grade": true,
     "grade_id": "cell-a796a33fa23e8f3a",
     "locked": true,
     "points": 0,
     "schema_version": 3,
     "solution": false,
     "task": false
    }
   },
   "outputs": [],
   "source": []
  },
  {
   "cell_type": "code",
   "execution_count": null,
   "metadata": {},
   "outputs": [],
   "source": []
  }
 ],
 "metadata": {
  "kernelspec": {
   "display_name": "Python 3",
   "language": "python",
   "name": "python3"
  },
  "language_info": {
   "codemirror_mode": {
    "name": "ipython",
    "version": 3
   },
   "file_extension": ".py",
   "mimetype": "text/x-python",
   "name": "python",
   "nbconvert_exporter": "python",
   "pygments_lexer": "ipython3",
   "version": "3.8.8"
  }
 },
 "nbformat": 4,
 "nbformat_minor": 2
}
