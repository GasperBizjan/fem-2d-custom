{
 "cells": [
  {
   "cell_type": "markdown",
   "metadata": {},
   "source": [
    "Before you turn this problem in, make sure everything runs as expected. First, **restart the kernel** (in the menubar, select Kernel$\\rightarrow$Restart) and then **run all cells** (in the menubar, select Cell$\\rightarrow$Run All).\n",
    "\n",
    "Make sure you fill in any place that says `YOUR CODE HERE` or \"YOUR ANSWER HERE\", as well as your name and collaborators below:"
   ]
  },
  {
   "cell_type": "code",
   "execution_count": 1,
   "metadata": {},
   "outputs": [],
   "source": [
    "NAME = \"Gasper Bizjan\""
   ]
  },
  {
   "cell_type": "markdown",
   "metadata": {},
   "source": [
    "---"
   ]
  },
  {
   "cell_type": "markdown",
   "metadata": {
    "deletable": false,
    "editable": false,
    "nbgrader": {
     "cell_type": "markdown",
     "checksum": "582d92c84990270f2f86dd2c63afc5ab",
     "grade": false,
     "grade_id": "cell-bb5148102f5e12c1",
     "locked": true,
     "schema_version": 3,
     "solution": false,
     "task": false
    }
   },
   "source": [
    "## 11 Strong and weak Interpolation\n",
    "\n",
    "In this assignment we will discuss the different concepts of interpolation. Let $\\Omega\\subset\\mathbb{R}^n$  a domain and $f\\colon\\Omega\\to\\mathbb{R}$ a continuos, integrable fucntion. \n",
    "\n",
    "Let assume a triangulation $\\tau_h$ of $\\Omega$ w.r.t points $\\{x_i\\}_i^{N_p-1}$. In case $n=2$ the triangulation is a set of triangles and in case of $n=1$ $\\tau_h$ is a set of intervals. A functions is called discrete function w.r.t. a global discrete basis if \n",
    "$$\n",
    "f_h(x) = \\sum_{i=0}^{N_p-1} F_i \\varphi_i(x). \n",
    "$$ \n",
    "for degrees of freedom $f_i$. We call it nodal or strong interpolation if \n",
    "$$\n",
    "f(x_j) = f_h(x_j) \\qquad \\forall j=0,...,N_p-1\n",
    "$$ and weak interpolation or $L2$-projection if $f_h$ hold \n",
    "$$\n",
    "\\int_\\Omega f_h \\varphi_j = \\int_\\Omega f\\varphi_j \\qquad \\forall j=0,...,N_p-1.\n",
    "$$"
   ]
  },
  {
   "cell_type": "markdown",
   "metadata": {
    "deletable": false,
    "editable": false,
    "nbgrader": {
     "cell_type": "markdown",
     "checksum": "b0dc2162129e28ff402af5ab1839e57a",
     "grade": false,
     "grade_id": "cell-011ea84dfdc31750",
     "locked": true,
     "schema_version": 3,
     "solution": false,
     "task": false
    }
   },
   "source": [
    "### 11.1 Import \n",
    "Create a global Basis called ```globalB``` on the unit square. Import all the ingredients from the ```python```-files.  "
   ]
  },
  {
   "cell_type": "code",
   "execution_count": 2,
   "metadata": {
    "deletable": false,
    "nbgrader": {
     "cell_type": "code",
     "checksum": "79d9684837091ac4e7515e6cd31aa931",
     "grade": false,
     "grade_id": "cell-9af0e1727176a7dd",
     "locked": false,
     "schema_version": 3,
     "solution": true,
     "task": false
    }
   },
   "outputs": [],
   "source": [
    "import basis\n",
    "import grid\n",
    "\n",
    "# grid, basis\n",
    "g = grid.Grid(0,1,0,1,10,10)\n",
    "b = basis.Basis()\n",
    "\n",
    "# global basis\n",
    "globalB = basis.GlobalBasis(g, b)"
   ]
  },
  {
   "cell_type": "code",
   "execution_count": null,
   "metadata": {
    "deletable": false,
    "editable": false,
    "nbgrader": {
     "cell_type": "code",
     "checksum": "ea9415ac00a1876462cfd5455c3c038b",
     "grade": true,
     "grade_id": "cell-c293cc763d5ce6df",
     "locked": true,
     "points": 3,
     "schema_version": 3,
     "solution": false,
     "task": false
    }
   },
   "outputs": [],
   "source": []
  },
  {
   "cell_type": "markdown",
   "metadata": {
    "deletable": false,
    "editable": false,
    "nbgrader": {
     "cell_type": "markdown",
     "checksum": "5ad711c762ffd94696dfdf2b75a2b878",
     "grade": false,
     "grade_id": "cell-241a4c4a9dd5438f",
     "locked": true,
     "schema_version": 3,
     "solution": false,
     "task": false
    }
   },
   "source": [
    "### 11.2 - DiscreteFunction class\n",
    "Implement a class ```DiscreteFunction``` that represents the discrete function $f_h = \\sum_{i=0}^{N_p-1} F_i \\varphi_i$. This discrete function will be the nodal interpolation. \n",
    "\n",
    "#### 11.2.0 Preparation (not graded)\n",
    "In the Lecture we introduced the condition for the degrees of freedom $F_j = f(x_j)$ for all $j=0,...,N_p-1$ in case of the nodal or strong interpolation. Consider why. <br>\n",
    "\n",
    "$f_h$ is a global evaluateable function. Consider why it is complecated to calcuate $f_h(x,y)$ and why it is mush easier to evaluate $f_h$ w.r.t a point in the reference element $(\\hat{x},\\hat{y})$ and triangle of our grid $T$. Show the following condition \n",
    "$$\n",
    "f_h(F_T(\\hat{x},\\hat{y})) = \\sum\\limits_{i \\colon (x_i,y_i) \\text{ edge point of }T }  F_i \\hat{\\phi}_{D(i,T)} (\\hat{x},\\hat{y}).\n",
    "$$\n",
    "\n",
    "\n",
    "#### 11.2.1 Constructor\n",
    "The contructor gets a global basis and should store it as a member ```globalBasis```. Please consider, such that you also have access to all the members of this globalBasis. Further more it should inital a member ```values``` as a representation of the degrees of freedom $F_i$ for all $i=0,1,...,N_p-1$. Inital the array filled with zeros. <br>\n",
    "<b>INPUT:</b> ```globalBasis```, global basis class. \n",
    "\n",
    "#### 11.2.2 Interpolation\n",
    "Write a member function ```interpolate``` which interpolates a lambda function nodal. <br>\n",
    "<b>INPUT:</b> ```f``` lambda function of the form ```f = lambda x,y: foo ```. \n",
    "\n",
    "#### 11.2.3 Evaluation\n",
    "Write a member function ```evalLocal``` which evaluates $f_h(F_T(\\hat{x},\\hat{y}))$ for a point on the reference Element $(\\hat{x},\\hat{y})$ and for triangel $T$.        \n",
    "<b>INPUT:</b> ```xHat``` set of points on the reference element as array with shape $N_p \\times 2$. <br>\n",
    "<b>OUTPUT:</b> evaluation of $f_h$ in all points and in all triangles as array with shape $N_c \\times N_p$. <br>\n",
    "\n",
    "Hint:<br>\n",
    "``` fh = DiscreteFunction(globalB)``` <br>\n",
    "``` xHat = np.array([[x1,y1] , [x2,y2] , ... ]) ```<br>\n",
    "```fh.evalLocal(xHat)[T][i]``` $ = f_h(F_T(\\hat{x}_i,\\hat{y}_i))$\n",
    "\n",
    "#### 11.2.3 show\n",
    "Write a function ```show``` which plot the discrete function on the domain. You can either plot the graph of the function in 3d or the color plot. "
   ]
  },
  {
   "cell_type": "code",
   "execution_count": 3,
   "metadata": {
    "deletable": false,
    "nbgrader": {
     "cell_type": "code",
     "checksum": "7dd8ae9e3ded753bca7a38b6eda5ed8b",
     "grade": false,
     "grade_id": "cell-611f7feab532f872",
     "locked": false,
     "schema_version": 3,
     "solution": true,
     "task": false
    }
   },
   "outputs": [
    {
     "name": "stdout",
     "output_type": "stream",
     "text": [
      "[[0 0]\n",
      " [1 0]\n",
      " [0 1]]\n",
      "[[1. 0. 0.]\n",
      " [0. 1. 0.]\n",
      " [0. 0. 1.]]\n"
     ]
    },
    {
     "data": {
      "text/plain": [
       "array([[0.        , 0.11111111, 0.11111111],\n",
       "       [0.22222222, 0.11111111, 0.11111111],\n",
       "       [0.11111111, 0.22222222, 0.22222222],\n",
       "       [0.33333333, 0.22222222, 0.22222222],\n",
       "       [0.22222222, 0.33333333, 0.33333333],\n",
       "       [0.44444444, 0.33333333, 0.33333333],\n",
       "       [0.33333333, 0.44444444, 0.44444444],\n",
       "       [0.55555556, 0.44444444, 0.44444444],\n",
       "       [0.44444444, 0.55555556, 0.55555556],\n",
       "       [0.66666667, 0.55555556, 0.55555556],\n",
       "       [0.55555556, 0.66666667, 0.66666667],\n",
       "       [0.77777778, 0.66666667, 0.66666667],\n",
       "       [0.66666667, 0.77777778, 0.77777778],\n",
       "       [0.88888889, 0.77777778, 0.77777778],\n",
       "       [0.77777778, 0.88888889, 0.88888889],\n",
       "       [1.        , 0.88888889, 0.88888889],\n",
       "       [0.88888889, 1.        , 1.        ],\n",
       "       [1.11111111, 1.        , 1.        ],\n",
       "       [0.11111111, 0.22222222, 0.22222222],\n",
       "       [0.33333333, 0.22222222, 0.22222222],\n",
       "       [0.22222222, 0.33333333, 0.33333333],\n",
       "       [0.44444444, 0.33333333, 0.33333333],\n",
       "       [0.33333333, 0.44444444, 0.44444444],\n",
       "       [0.55555556, 0.44444444, 0.44444444],\n",
       "       [0.44444444, 0.55555556, 0.55555556],\n",
       "       [0.66666667, 0.55555556, 0.55555556],\n",
       "       [0.55555556, 0.66666667, 0.66666667],\n",
       "       [0.77777778, 0.66666667, 0.66666667],\n",
       "       [0.66666667, 0.77777778, 0.77777778],\n",
       "       [0.88888889, 0.77777778, 0.77777778],\n",
       "       [0.77777778, 0.88888889, 0.88888889],\n",
       "       [1.        , 0.88888889, 0.88888889],\n",
       "       [0.88888889, 1.        , 1.        ],\n",
       "       [1.11111111, 1.        , 1.        ],\n",
       "       [1.        , 1.11111111, 1.11111111],\n",
       "       [1.22222222, 1.11111111, 1.11111111],\n",
       "       [0.22222222, 0.33333333, 0.33333333],\n",
       "       [0.44444444, 0.33333333, 0.33333333],\n",
       "       [0.33333333, 0.44444444, 0.44444444],\n",
       "       [0.55555556, 0.44444444, 0.44444444],\n",
       "       [0.44444444, 0.55555556, 0.55555556],\n",
       "       [0.66666667, 0.55555556, 0.55555556],\n",
       "       [0.55555556, 0.66666667, 0.66666667],\n",
       "       [0.77777778, 0.66666667, 0.66666667],\n",
       "       [0.66666667, 0.77777778, 0.77777778],\n",
       "       [0.88888889, 0.77777778, 0.77777778],\n",
       "       [0.77777778, 0.88888889, 0.88888889],\n",
       "       [1.        , 0.88888889, 0.88888889],\n",
       "       [0.88888889, 1.        , 1.        ],\n",
       "       [1.11111111, 1.        , 1.        ],\n",
       "       [1.        , 1.11111111, 1.11111111],\n",
       "       [1.22222222, 1.11111111, 1.11111111],\n",
       "       [1.11111111, 1.22222222, 1.22222222],\n",
       "       [1.33333333, 1.22222222, 1.22222222],\n",
       "       [0.33333333, 0.44444444, 0.44444444],\n",
       "       [0.55555556, 0.44444444, 0.44444444],\n",
       "       [0.44444444, 0.55555556, 0.55555556],\n",
       "       [0.66666667, 0.55555556, 0.55555556],\n",
       "       [0.55555556, 0.66666667, 0.66666667],\n",
       "       [0.77777778, 0.66666667, 0.66666667],\n",
       "       [0.66666667, 0.77777778, 0.77777778],\n",
       "       [0.88888889, 0.77777778, 0.77777778],\n",
       "       [0.77777778, 0.88888889, 0.88888889],\n",
       "       [1.        , 0.88888889, 0.88888889],\n",
       "       [0.88888889, 1.        , 1.        ],\n",
       "       [1.11111111, 1.        , 1.        ],\n",
       "       [1.        , 1.11111111, 1.11111111],\n",
       "       [1.22222222, 1.11111111, 1.11111111],\n",
       "       [1.11111111, 1.22222222, 1.22222222],\n",
       "       [1.33333333, 1.22222222, 1.22222222],\n",
       "       [1.22222222, 1.33333333, 1.33333333],\n",
       "       [1.44444444, 1.33333333, 1.33333333],\n",
       "       [0.44444444, 0.55555556, 0.55555556],\n",
       "       [0.66666667, 0.55555556, 0.55555556],\n",
       "       [0.55555556, 0.66666667, 0.66666667],\n",
       "       [0.77777778, 0.66666667, 0.66666667],\n",
       "       [0.66666667, 0.77777778, 0.77777778],\n",
       "       [0.88888889, 0.77777778, 0.77777778],\n",
       "       [0.77777778, 0.88888889, 0.88888889],\n",
       "       [1.        , 0.88888889, 0.88888889],\n",
       "       [0.88888889, 1.        , 1.        ],\n",
       "       [1.11111111, 1.        , 1.        ],\n",
       "       [1.        , 1.11111111, 1.11111111],\n",
       "       [1.22222222, 1.11111111, 1.11111111],\n",
       "       [1.11111111, 1.22222222, 1.22222222],\n",
       "       [1.33333333, 1.22222222, 1.22222222],\n",
       "       [1.22222222, 1.33333333, 1.33333333],\n",
       "       [1.44444444, 1.33333333, 1.33333333],\n",
       "       [1.33333333, 1.44444444, 1.44444444],\n",
       "       [1.55555556, 1.44444444, 1.44444444],\n",
       "       [0.55555556, 0.66666667, 0.66666667],\n",
       "       [0.77777778, 0.66666667, 0.66666667],\n",
       "       [0.66666667, 0.77777778, 0.77777778],\n",
       "       [0.88888889, 0.77777778, 0.77777778],\n",
       "       [0.77777778, 0.88888889, 0.88888889],\n",
       "       [1.        , 0.88888889, 0.88888889],\n",
       "       [0.88888889, 1.        , 1.        ],\n",
       "       [1.11111111, 1.        , 1.        ],\n",
       "       [1.        , 1.11111111, 1.11111111],\n",
       "       [1.22222222, 1.11111111, 1.11111111],\n",
       "       [1.11111111, 1.22222222, 1.22222222],\n",
       "       [1.33333333, 1.22222222, 1.22222222],\n",
       "       [1.22222222, 1.33333333, 1.33333333],\n",
       "       [1.44444444, 1.33333333, 1.33333333],\n",
       "       [1.33333333, 1.44444444, 1.44444444],\n",
       "       [1.55555556, 1.44444444, 1.44444444],\n",
       "       [1.44444444, 1.55555556, 1.55555556],\n",
       "       [1.66666667, 1.55555556, 1.55555556],\n",
       "       [0.66666667, 0.77777778, 0.77777778],\n",
       "       [0.88888889, 0.77777778, 0.77777778],\n",
       "       [0.77777778, 0.88888889, 0.88888889],\n",
       "       [1.        , 0.88888889, 0.88888889],\n",
       "       [0.88888889, 1.        , 1.        ],\n",
       "       [1.11111111, 1.        , 1.        ],\n",
       "       [1.        , 1.11111111, 1.11111111],\n",
       "       [1.22222222, 1.11111111, 1.11111111],\n",
       "       [1.11111111, 1.22222222, 1.22222222],\n",
       "       [1.33333333, 1.22222222, 1.22222222],\n",
       "       [1.22222222, 1.33333333, 1.33333333],\n",
       "       [1.44444444, 1.33333333, 1.33333333],\n",
       "       [1.33333333, 1.44444444, 1.44444444],\n",
       "       [1.55555556, 1.44444444, 1.44444444],\n",
       "       [1.44444444, 1.55555556, 1.55555556],\n",
       "       [1.66666667, 1.55555556, 1.55555556],\n",
       "       [1.55555556, 1.66666667, 1.66666667],\n",
       "       [1.77777778, 1.66666667, 1.66666667],\n",
       "       [0.77777778, 0.88888889, 0.88888889],\n",
       "       [1.        , 0.88888889, 0.88888889],\n",
       "       [0.88888889, 1.        , 1.        ],\n",
       "       [1.11111111, 1.        , 1.        ],\n",
       "       [1.        , 1.11111111, 1.11111111],\n",
       "       [1.22222222, 1.11111111, 1.11111111],\n",
       "       [1.11111111, 1.22222222, 1.22222222],\n",
       "       [1.33333333, 1.22222222, 1.22222222],\n",
       "       [1.22222222, 1.33333333, 1.33333333],\n",
       "       [1.44444444, 1.33333333, 1.33333333],\n",
       "       [1.33333333, 1.44444444, 1.44444444],\n",
       "       [1.55555556, 1.44444444, 1.44444444],\n",
       "       [1.44444444, 1.55555556, 1.55555556],\n",
       "       [1.66666667, 1.55555556, 1.55555556],\n",
       "       [1.55555556, 1.66666667, 1.66666667],\n",
       "       [1.77777778, 1.66666667, 1.66666667],\n",
       "       [1.66666667, 1.77777778, 1.77777778],\n",
       "       [1.88888889, 1.77777778, 1.77777778],\n",
       "       [0.88888889, 1.        , 1.        ],\n",
       "       [1.11111111, 1.        , 1.        ],\n",
       "       [1.        , 1.11111111, 1.11111111],\n",
       "       [1.22222222, 1.11111111, 1.11111111],\n",
       "       [1.11111111, 1.22222222, 1.22222222],\n",
       "       [1.33333333, 1.22222222, 1.22222222],\n",
       "       [1.22222222, 1.33333333, 1.33333333],\n",
       "       [1.44444444, 1.33333333, 1.33333333],\n",
       "       [1.33333333, 1.44444444, 1.44444444],\n",
       "       [1.55555556, 1.44444444, 1.44444444],\n",
       "       [1.44444444, 1.55555556, 1.55555556],\n",
       "       [1.66666667, 1.55555556, 1.55555556],\n",
       "       [1.55555556, 1.66666667, 1.66666667],\n",
       "       [1.77777778, 1.66666667, 1.66666667],\n",
       "       [1.66666667, 1.77777778, 1.77777778],\n",
       "       [1.88888889, 1.77777778, 1.77777778],\n",
       "       [1.77777778, 1.88888889, 1.88888889],\n",
       "       [2.        , 1.88888889, 1.88888889]])"
      ]
     },
     "execution_count": 3,
     "metadata": {},
     "output_type": "execute_result"
    }
   ],
   "source": [
    "import numpy as np\n",
    "import matplotlib.pyplot as plt\n",
    "import matplotlib.tri as triang\n",
    "\n",
    "class DiscreteFunction():\n",
    "    def __init__(self, globalBasis):\n",
    "        self.globalBasis = globalBasis\n",
    "        self.values = np.zeros(self.globalBasis.grid.points.shape[0])\n",
    "        \n",
    "    def interpolate(self, f):\n",
    "        self.values = f(self.globalBasis.grid.points[:,0] , self.globalBasis.grid.points[:,1])\n",
    "            \n",
    "    def evalLocal(self, xHat): # np.array([[x1,y2], [x2,y2], ...]) in the reference triangle\n",
    "        # we will get Nc x Np \n",
    "        #               1 x Np x 3                                      Nc x 1 x 3\n",
    "        val = self.globalBasis.basis.evalPhi(xHat)[None,:] * self.values[self.globalBasis.grid.cells][:,None,:]\n",
    "        # val --> Nc x Np x 3\n",
    "        print(xHat)\n",
    "        print(self.globalBasis.basis.evalPhi(xHat))\n",
    "        return np.sum(val, axis=2)\n",
    "    \n",
    "    def show(self):\n",
    "        fig = plt.figure()\n",
    "        ax = fig.add_subplot(1, 1, 1)\n",
    "        ax.set_xlim([self.globalBasis.grid.xlow, self.globalBasis.grid.xhigh])\n",
    "        ax.set_ylim([self.globalBasis.grid.ylow, self.globalBasis.grid.yhigh])\n",
    "        ax.axis('equal')\n",
    "        triangulation = triang.Triangulation(self.globalBasis.grid.points[:,0], self.globalBasis.grid.points[:,1])\n",
    "        tri = ax.tripcolor(triangulation, self.values, shading='gouraud')\n",
    "        ax.set_xlabel(r'$x$')\n",
    "        ax.set_ylabel(r'$y$')\n",
    "        fig.colorbar(tri)\n",
    "        plt.show()\n",
    "        \n",
    "fh = DiscreteFunction(globalB)\n",
    "fh.interpolate(lambda x,y:x+y)\n",
    "fh.evalLocal(np.array([[0,0],[1,0],[0,1]]))"
   ]
  },
  {
   "cell_type": "code",
   "execution_count": 4,
   "metadata": {
    "deletable": false,
    "editable": false,
    "nbgrader": {
     "cell_type": "code",
     "checksum": "ad6f11d9e4291e734f3500010198e1c1",
     "grade": false,
     "grade_id": "cell-e06eb692b40a4ea9",
     "locked": true,
     "schema_version": 3,
     "solution": false,
     "task": false
    }
   },
   "outputs": [
    {
     "data": {
      "image/png": "[encoded data removed]",
      "text/plain": [
       "<Figure size 432x288 with 2 Axes>"
      ]
     },
     "metadata": {
      "needs_background": "light"
     },
     "output_type": "display_data"
    }
   ],
   "source": [
    "fh = DiscreteFunction(globalB)\n",
    "fh.interpolate(lambda x,y:x+y)\n",
    "fh.show()"
   ]
  },
  {
   "cell_type": "code",
   "execution_count": null,
   "metadata": {
    "deletable": false,
    "editable": false,
    "nbgrader": {
     "cell_type": "code",
     "checksum": "527e54699c254d9acfd6e1605ba8b0fa",
     "grade": true,
     "grade_id": "cell-a6997a99904ff07f",
     "locked": true,
     "points": 3,
     "schema_version": 3,
     "solution": false,
     "task": false
    }
   },
   "outputs": [],
   "source": []
  },
  {
   "cell_type": "code",
   "execution_count": null,
   "metadata": {
    "deletable": false,
    "editable": false,
    "nbgrader": {
     "cell_type": "code",
     "checksum": "32311172f665aa7d5b54ae62f4cb9568",
     "grade": true,
     "grade_id": "cell-b7bc0ac1fe6d4bed",
     "locked": true,
     "points": 3,
     "schema_version": 3,
     "solution": false,
     "task": false
    }
   },
   "outputs": [],
   "source": []
  },
  {
   "cell_type": "code",
   "execution_count": null,
   "metadata": {
    "deletable": false,
    "editable": false,
    "nbgrader": {
     "cell_type": "code",
     "checksum": "c125582e14401cb6a5b322c4ec178a57",
     "grade": true,
     "grade_id": "cell-5c6af786c1db78b7",
     "locked": true,
     "points": 3,
     "schema_version": 3,
     "solution": false,
     "task": false
    }
   },
   "outputs": [],
   "source": []
  },
  {
   "cell_type": "markdown",
   "metadata": {
    "deletable": false,
    "editable": false,
    "nbgrader": {
     "cell_type": "markdown",
     "checksum": "7f02263baf1dbaa9d5f599a42f68a128",
     "grade": false,
     "grade_id": "cell-688fb5fa485050b8",
     "locked": true,
     "schema_version": 3,
     "solution": false,
     "task": false
    }
   },
   "source": [
    "### 11.3 Weak Interpolation\n",
    "\n",
    "Let assume an interval $\\Omega = [-1,1]$ and triangulation $\\tau_h$ w.r.t. the nodes $\\{x_i\\}=\\{ -1,0,1\\}$. Consider the function $f(x) = \\cos(4 \\pi x)$. \n",
    "\n",
    "#### 11.3.1 Global Basis\n",
    "Give the global basis function $\\varphi_j$ on $\\Omega$ for $j=0,1,2$. (3 points)\n",
    "\n",
    "#### 11.3.2 Nodal Interpolation\n",
    "Compute the strong interpolation $f_s$ of the function $f$. (2 points) \n",
    "\n",
    "#### 11.3.3 Weak Interpolation\n",
    "Compute the weak interpolation $f_w$ of the function $f$. (5 points)\n",
    "\n",
    "#### 11.3.4 Comparation\n",
    "Give an interpretation of $f_w$ and $f_s$ from a mathematical point of view. (2 points)\n"
   ]
  },
  {
   "cell_type": "markdown",
   "metadata": {
    "deletable": false,
    "nbgrader": {
     "cell_type": "markdown",
     "checksum": "9f8612cc75eff3195ed808255e4eec5d",
     "grade": true,
     "grade_id": "cell-4b014ccebacf321e",
     "locked": false,
     "points": 12,
     "schema_version": 3,
     "solution": true,
     "task": false
    }
   },
   "source": [
    "Look at attached pdf"
   ]
  },
  {
   "cell_type": "code",
   "execution_count": null,
   "metadata": {},
   "outputs": [],
   "source": []
  }
 ],
 "metadata": {
  "kernelspec": {
   "display_name": "Python 3",
   "language": "python",
   "name": "python3"
  },
  "language_info": {
   "codemirror_mode": {
    "name": "ipython",
    "version": 3
   },
   "file_extension": ".py",
   "mimetype": "text/x-python",
   "name": "python",
   "nbconvert_exporter": "python",
   "pygments_lexer": "ipython3",
   "version": "3.8.8"
  }
 },
 "nbformat": 4,
 "nbformat_minor": 2
}
