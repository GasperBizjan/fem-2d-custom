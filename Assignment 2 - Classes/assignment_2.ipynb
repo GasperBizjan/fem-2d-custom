{
 "cells": [
  {
   "cell_type": "markdown",
   "metadata": {},
   "source": [
    "Before you turn this problem in, make sure everything runs as expected. First, **restart the kernel** (in the menubar, select Kernel$\\rightarrow$Restart) and then **run all cells** (in the menubar, select Cell$\\rightarrow$Run All).\n",
    "\n",
    "Make sure you fill in any place that says `YOUR CODE HERE` or \"YOUR ANSWER HERE\", as well as your name and collaborators below:"
   ]
  },
  {
   "cell_type": "code",
   "execution_count": 28,
   "metadata": {},
   "outputs": [],
   "source": [
    "NAME = \"Gasper Bizjan\""
   ]
  },
  {
   "cell_type": "markdown",
   "metadata": {},
   "source": [
    "---"
   ]
  },
  {
   "cell_type": "markdown",
   "metadata": {
    "deletable": false,
    "editable": false,
    "nbgrader": {
     "cell_type": "markdown",
     "checksum": "0649a0628c15bf5f7d8a565364615eeb",
     "grade": false,
     "grade_id": "cell-8fa3b72f2661c52e",
     "locked": true,
     "schema_version": 3,
     "solution": false,
     "task": false
    }
   },
   "source": [
    "## Assignment 2 - Object Oriented Programming\n",
    "\n",
    "-----------------------------------------\n",
    "The following is intended to make you familiar with the concepts of object oriented programming in python3. We will structure our finite element methode in classes with certain properties and functions. This will make the code easier to understande. "
   ]
  },
  {
   "cell_type": "markdown",
   "metadata": {
    "deletable": false,
    "editable": false,
    "nbgrader": {
     "cell_type": "markdown",
     "checksum": "be080879073e20f3792fa8b9ec50512e",
     "grade": false,
     "grade_id": "cell-102f4fd80046a0df",
     "locked": true,
     "schema_version": 3,
     "solution": false,
     "task": false
    }
   },
   "source": [
    "### 2.1 Class Definition\n",
    "\n",
    "Assume a function $f\\colon [a,b] \\longrightarrow \\mathbb{R}$ and the discrete pointsets $\\{x_i\\}_1^n\\subset [a,b]$.\n",
    "\n",
    "Write a class ```DiscreteFunction``` which represents the interpolation of a given function $f$ with respect to $\\{x_i\\}_1^n$. The pointwise evaluations should be stored as $\\{f_i\\}_1^n$ with $f_i = f(x_i)$ for ever $i$.<br>\n",
    "\n",
    "#### constructor\n",
    "Write the class constructor ```__init__```. It has to store the Variables $a,b,n$ and has to inital ```self.x``` by a numpy-array with $x_i = (b-a)\\frac{i}{n}$ as a representation of $\\{x_i\\}_1^n$ and ```self.f``` also a numpy-array with $f_i=0$ as the represention of $\\{f_i\\}_1^n$. <br>\n",
    "<b>INPUT:</b> $a,b$ - float, Interval boundaries $n$ - integer, number of points <br>\n",
    "\n",
    "\n",
    "#### interpolate\n",
    "Write a property called ```interpolate``` which evaluates a lambda-function $f$ with respect to $\\{x_i\\}_1^n$. <br>\n",
    "<b>INPUT:</b> $f$ - lambda function \n",
    "\n",
    "#### show\n",
    "Write a property called ```show``` which plots $\\{x_i\\}_1^n$ against $\\{f_i\\}_1^n$ and shows it on the screen. \n",
    "\n",
    "#### evaluation (Optional)\n",
    "\n",
    "In the following assignments, optional tasks will either going deeper in concept of the finite element method or in the python3 standart and you can prepare it volentary.   \n",
    "\n",
    "Up to now the discrete function can be only evaluated in $x_i$ but not in between. Overload the evaluation oprerator () defined by the property ```__call__``` to evaluate the discrete function in a certain point $x\\in [a,b]$. You can either use a standart interpolation method or feel free to do it in your own way. If you want to switch the method, you can add an optional argument ```methode='yourDefaultMethodeHere'``` to select the method during runtime. <br>\n",
    "<b>INPUT:</b> $x$ - float <br>\n",
    "<b>OUTPUT:</b> $float$ - evaluation of the discrete function"
   ]
  },
  {
   "cell_type": "code",
   "execution_count": 29,
   "metadata": {
    "deletable": false,
    "nbgrader": {
     "cell_type": "code",
     "checksum": "0a9e9f26455e64e7a11ed5a6d8656c38",
     "grade": false,
     "grade_id": "cell-0493f3b44e11b148",
     "locked": false,
     "schema_version": 3,
     "solution": true,
     "task": false
    }
   },
   "outputs": [],
   "source": [
    "import numpy as np\n",
    "import matplotlib.pyplot as plt\n",
    "from scipy.interpolate import interp1d # Using scipy's integrated interpolation tools\n",
    "\n",
    "# YOUR CODE HERE\n",
    "\n",
    "class DiscreteFunction:\n",
    "    def __init__(self, a, b, n):\n",
    "        self.a = a\n",
    "        self.b = b\n",
    "        self.n = n\n",
    "        #self.x = np.linspace((b-a)*1/n, (b-a), num=n) # Mistake of instructions (only works from 0 to 1)\n",
    "        self.x = np.linspace(a, b, num=n)\n",
    "        self.f = np.zeros(n)\n",
    "        \n",
    "    def interpolate(self, f):\n",
    "        self.f = f(self.x)\n",
    "        return self.f\n",
    "    \n",
    "    def show(self):\n",
    "        fig = plt.figure()\n",
    "        ax = fig.add_subplot(1, 1, 1)\n",
    "        # plotting\n",
    "        ax.plot(self.x, self.f, 'o')\n",
    "        ax.plot(self.x, self.f, '-')\n",
    "        # formating\n",
    "        ax.set_xlabel(r'$x$')\n",
    "        ax.set_ylabel(r'$f(x)$')\n",
    "        # display the plot\n",
    "        ax.grid()\n",
    "        plt.show()\n",
    "        \n",
    "    def __call__(self, x_h, methode='linear'): # overload\n",
    "        f_h = interp1d(self.x, self.interpolate(f), kind=methode) \n",
    "        return f_h(x_h)"
   ]
  },
  {
   "cell_type": "code",
   "execution_count": 27,
   "metadata": {
    "deletable": false,
    "editable": false,
    "nbgrader": {
     "cell_type": "code",
     "checksum": "d2c129416786bf898f309f0cb3343bfa",
     "grade": false,
     "grade_id": "cell-daabd038deb8017e",
     "locked": true,
     "schema_version": 3,
     "solution": false,
     "task": false
    }
   },
   "outputs": [
    {
     "data": {
      "image/png": "[encoded data removed]",
      "text/plain": [
       "<Figure size 432x288 with 1 Axes>"
      ]
     },
     "metadata": {
      "needs_background": "light"
     },
     "output_type": "display_data"
    },
    {
     "name": "stdout",
     "output_type": "stream",
     "text": [
      "f(0.25) = 0.7071067811865476\n",
      "fh(0.25) = 0.6896028661810152\n"
     ]
    }
   ],
   "source": [
    "### This is a read only cell. Please don't not delete it. \n",
    "\n",
    "### declaration\n",
    "fh = DiscreteFunction(0,1,20)\n",
    "\n",
    "### interpolation\n",
    "f = lambda x: np.sin(3*np.pi*x)\n",
    "fh.interpolate(f)\n",
    "\n",
    "### ploting\n",
    "fh.show()\n",
    "\n",
    "### calling (with error handling)\n",
    "x = 0.25\n",
    "print( 'f(0.25) =' , f(0.25) )\n",
    "try:\n",
    "    print( 'fh(0.25) =' , fh(0.25) )\n",
    "except:\n",
    "    pass"
   ]
  },
  {
   "cell_type": "code",
   "execution_count": null,
   "metadata": {
    "deletable": false,
    "editable": false,
    "nbgrader": {
     "cell_type": "code",
     "checksum": "d2ed492bae502d733d479ec57667fda0",
     "grade": true,
     "grade_id": "cell-cbcdbc59c0c83290",
     "locked": true,
     "points": 2,
     "schema_version": 3,
     "solution": false,
     "task": false
    }
   },
   "outputs": [],
   "source": []
  },
  {
   "cell_type": "code",
   "execution_count": null,
   "metadata": {
    "deletable": false,
    "editable": false,
    "nbgrader": {
     "cell_type": "code",
     "checksum": "d8728b84e3b85eb66e83aa24dfd04fc8",
     "grade": true,
     "grade_id": "cell-cbcdbc59c0c83291",
     "locked": true,
     "points": 2,
     "schema_version": 3,
     "solution": false,
     "task": false
    }
   },
   "outputs": [],
   "source": []
  },
  {
   "cell_type": "code",
   "execution_count": null,
   "metadata": {
    "deletable": false,
    "editable": false,
    "nbgrader": {
     "cell_type": "code",
     "checksum": "f2a5ce28abe2cbedc3f601b73a066866",
     "grade": true,
     "grade_id": "cell-9c14a26e1f14a7b3",
     "locked": true,
     "points": 3,
     "schema_version": 3,
     "solution": false,
     "task": false
    }
   },
   "outputs": [],
   "source": []
  },
  {
   "cell_type": "code",
   "execution_count": null,
   "metadata": {
    "deletable": false,
    "editable": false,
    "nbgrader": {
     "cell_type": "code",
     "checksum": "9f6c45c41c9a39916a94ded77457d581",
     "grade": true,
     "grade_id": "cell-0c2008f5a6a20c31",
     "locked": true,
     "points": 2,
     "schema_version": 3,
     "solution": false,
     "task": false
    }
   },
   "outputs": [],
   "source": []
  }
 ],
 "metadata": {
  "kernelspec": {
   "display_name": "Python 3",
   "language": "python",
   "name": "python3"
  },
  "language_info": {
   "codemirror_mode": {
    "name": "ipython",
    "version": 3
   },
   "file_extension": ".py",
   "mimetype": "text/x-python",
   "name": "python",
   "nbconvert_exporter": "python",
   "pygments_lexer": "ipython3",
   "version": "3.8.8"
  }
 },
 "nbformat": 4,
 "nbformat_minor": 4
}
